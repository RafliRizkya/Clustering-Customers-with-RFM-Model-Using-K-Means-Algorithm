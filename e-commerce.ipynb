{
 "cells": [
  {
   "cell_type": "code",
   "execution_count": 150,
   "metadata": {},
   "outputs": [],
   "source": [
    "import pandas as pd\n",
    "pd.options.display.float_format = '{:.2f}'.format\n",
    "import numpy as np\n",
    "import datetime as dt\n",
    "\n",
    "import seaborn as sns\n",
    "sns.set_style('whitegrid')\n",
    "import matplotlib.pyplot as plt\n",
    "import plotly.express as px\n",
    "\n",
    "from sklearn.cluster import KMeans\n",
    "\n",
    "from sklearn.preprocessing import StandardScaler\n",
    "from sklearn.metrics import silhouette_score"
   ]
  },
  {
   "cell_type": "code",
   "execution_count": 151,
   "metadata": {},
   "outputs": [
    {
     "data": {
      "text/html": [
       "<div>\n",
       "<style scoped>\n",
       "    .dataframe tbody tr th:only-of-type {\n",
       "        vertical-align: middle;\n",
       "    }\n",
       "\n",
       "    .dataframe tbody tr th {\n",
       "        vertical-align: top;\n",
       "    }\n",
       "\n",
       "    .dataframe thead th {\n",
       "        text-align: right;\n",
       "    }\n",
       "</style>\n",
       "<table border=\"1\" class=\"dataframe\">\n",
       "  <thead>\n",
       "    <tr style=\"text-align: right;\">\n",
       "      <th></th>\n",
       "      <th>InvoiceNo</th>\n",
       "      <th>StockCode</th>\n",
       "      <th>Description</th>\n",
       "      <th>Quantity</th>\n",
       "      <th>InvoiceDate</th>\n",
       "      <th>UnitPrice</th>\n",
       "      <th>CustomerID</th>\n",
       "      <th>Country</th>\n",
       "    </tr>\n",
       "  </thead>\n",
       "  <tbody>\n",
       "    <tr>\n",
       "      <th>0</th>\n",
       "      <td>536365</td>\n",
       "      <td>85123A</td>\n",
       "      <td>WHITE HANGING HEART T-LIGHT HOLDER</td>\n",
       "      <td>6</td>\n",
       "      <td>12/1/2010 8:26</td>\n",
       "      <td>2.55</td>\n",
       "      <td>17850.00</td>\n",
       "      <td>United Kingdom</td>\n",
       "    </tr>\n",
       "    <tr>\n",
       "      <th>1</th>\n",
       "      <td>536365</td>\n",
       "      <td>71053</td>\n",
       "      <td>WHITE METAL LANTERN</td>\n",
       "      <td>6</td>\n",
       "      <td>12/1/2010 8:26</td>\n",
       "      <td>3.39</td>\n",
       "      <td>17850.00</td>\n",
       "      <td>United Kingdom</td>\n",
       "    </tr>\n",
       "    <tr>\n",
       "      <th>2</th>\n",
       "      <td>536365</td>\n",
       "      <td>84406B</td>\n",
       "      <td>CREAM CUPID HEARTS COAT HANGER</td>\n",
       "      <td>8</td>\n",
       "      <td>12/1/2010 8:26</td>\n",
       "      <td>2.75</td>\n",
       "      <td>17850.00</td>\n",
       "      <td>United Kingdom</td>\n",
       "    </tr>\n",
       "    <tr>\n",
       "      <th>3</th>\n",
       "      <td>536365</td>\n",
       "      <td>84029G</td>\n",
       "      <td>KNITTED UNION FLAG HOT WATER BOTTLE</td>\n",
       "      <td>6</td>\n",
       "      <td>12/1/2010 8:26</td>\n",
       "      <td>3.39</td>\n",
       "      <td>17850.00</td>\n",
       "      <td>United Kingdom</td>\n",
       "    </tr>\n",
       "    <tr>\n",
       "      <th>4</th>\n",
       "      <td>536365</td>\n",
       "      <td>84029E</td>\n",
       "      <td>RED WOOLLY HOTTIE WHITE HEART.</td>\n",
       "      <td>6</td>\n",
       "      <td>12/1/2010 8:26</td>\n",
       "      <td>3.39</td>\n",
       "      <td>17850.00</td>\n",
       "      <td>United Kingdom</td>\n",
       "    </tr>\n",
       "  </tbody>\n",
       "</table>\n",
       "</div>"
      ],
      "text/plain": [
       "  InvoiceNo StockCode                          Description  Quantity  \\\n",
       "0    536365    85123A   WHITE HANGING HEART T-LIGHT HOLDER         6   \n",
       "1    536365     71053                  WHITE METAL LANTERN         6   \n",
       "2    536365    84406B       CREAM CUPID HEARTS COAT HANGER         8   \n",
       "3    536365    84029G  KNITTED UNION FLAG HOT WATER BOTTLE         6   \n",
       "4    536365    84029E       RED WOOLLY HOTTIE WHITE HEART.         6   \n",
       "\n",
       "      InvoiceDate  UnitPrice  CustomerID         Country  \n",
       "0  12/1/2010 8:26       2.55    17850.00  United Kingdom  \n",
       "1  12/1/2010 8:26       3.39    17850.00  United Kingdom  \n",
       "2  12/1/2010 8:26       2.75    17850.00  United Kingdom  \n",
       "3  12/1/2010 8:26       3.39    17850.00  United Kingdom  \n",
       "4  12/1/2010 8:26       3.39    17850.00  United Kingdom  "
      ]
     },
     "execution_count": 151,
     "metadata": {},
     "output_type": "execute_result"
    }
   ],
   "source": [
    "df = pd.read_csv('data.csv', encoding = 'latin1')\n",
    "\n",
    "df.head()"
   ]
  },
  {
   "cell_type": "code",
   "execution_count": 152,
   "metadata": {},
   "outputs": [
    {
     "name": "stdout",
     "output_type": "stream",
     "text": [
      "<class 'pandas.core.frame.DataFrame'>\n",
      "RangeIndex: 541909 entries, 0 to 541908\n",
      "Data columns (total 8 columns):\n",
      " #   Column       Non-Null Count   Dtype  \n",
      "---  ------       --------------   -----  \n",
      " 0   InvoiceNo    541909 non-null  object \n",
      " 1   StockCode    541909 non-null  object \n",
      " 2   Description  540455 non-null  object \n",
      " 3   Quantity     541909 non-null  int64  \n",
      " 4   InvoiceDate  541909 non-null  object \n",
      " 5   UnitPrice    541909 non-null  float64\n",
      " 6   CustomerID   406829 non-null  float64\n",
      " 7   Country      541909 non-null  object \n",
      "dtypes: float64(2), int64(1), object(5)\n",
      "memory usage: 33.1+ MB\n"
     ]
    }
   ],
   "source": [
    "df.info()"
   ]
  },
  {
   "cell_type": "code",
   "execution_count": 153,
   "metadata": {},
   "outputs": [
    {
     "data": {
      "text/html": [
       "<div>\n",
       "<style scoped>\n",
       "    .dataframe tbody tr th:only-of-type {\n",
       "        vertical-align: middle;\n",
       "    }\n",
       "\n",
       "    .dataframe tbody tr th {\n",
       "        vertical-align: top;\n",
       "    }\n",
       "\n",
       "    .dataframe thead th {\n",
       "        text-align: right;\n",
       "    }\n",
       "</style>\n",
       "<table border=\"1\" class=\"dataframe\">\n",
       "  <thead>\n",
       "    <tr style=\"text-align: right;\">\n",
       "      <th></th>\n",
       "      <th>Quantity</th>\n",
       "      <th>UnitPrice</th>\n",
       "      <th>CustomerID</th>\n",
       "    </tr>\n",
       "  </thead>\n",
       "  <tbody>\n",
       "    <tr>\n",
       "      <th>count</th>\n",
       "      <td>541909.00</td>\n",
       "      <td>541909.00</td>\n",
       "      <td>406829.00</td>\n",
       "    </tr>\n",
       "    <tr>\n",
       "      <th>mean</th>\n",
       "      <td>9.55</td>\n",
       "      <td>4.61</td>\n",
       "      <td>15287.69</td>\n",
       "    </tr>\n",
       "    <tr>\n",
       "      <th>std</th>\n",
       "      <td>218.08</td>\n",
       "      <td>96.76</td>\n",
       "      <td>1713.60</td>\n",
       "    </tr>\n",
       "    <tr>\n",
       "      <th>min</th>\n",
       "      <td>-80995.00</td>\n",
       "      <td>-11062.06</td>\n",
       "      <td>12346.00</td>\n",
       "    </tr>\n",
       "    <tr>\n",
       "      <th>25%</th>\n",
       "      <td>1.00</td>\n",
       "      <td>1.25</td>\n",
       "      <td>13953.00</td>\n",
       "    </tr>\n",
       "    <tr>\n",
       "      <th>50%</th>\n",
       "      <td>3.00</td>\n",
       "      <td>2.08</td>\n",
       "      <td>15152.00</td>\n",
       "    </tr>\n",
       "    <tr>\n",
       "      <th>75%</th>\n",
       "      <td>10.00</td>\n",
       "      <td>4.13</td>\n",
       "      <td>16791.00</td>\n",
       "    </tr>\n",
       "    <tr>\n",
       "      <th>max</th>\n",
       "      <td>80995.00</td>\n",
       "      <td>38970.00</td>\n",
       "      <td>18287.00</td>\n",
       "    </tr>\n",
       "  </tbody>\n",
       "</table>\n",
       "</div>"
      ],
      "text/plain": [
       "       Quantity  UnitPrice  CustomerID\n",
       "count 541909.00  541909.00   406829.00\n",
       "mean       9.55       4.61    15287.69\n",
       "std      218.08      96.76     1713.60\n",
       "min   -80995.00  -11062.06    12346.00\n",
       "25%        1.00       1.25    13953.00\n",
       "50%        3.00       2.08    15152.00\n",
       "75%       10.00       4.13    16791.00\n",
       "max    80995.00   38970.00    18287.00"
      ]
     },
     "execution_count": 153,
     "metadata": {},
     "output_type": "execute_result"
    }
   ],
   "source": [
    "df.describe()"
   ]
  },
  {
   "cell_type": "code",
   "execution_count": 154,
   "metadata": {},
   "outputs": [
    {
     "name": "stdout",
     "output_type": "stream",
     "text": [
      "Missing values for each columns:\n",
      "InvoiceNo           0\n",
      "StockCode           0\n",
      "Description      1454\n",
      "Quantity            0\n",
      "InvoiceDate         0\n",
      "UnitPrice           0\n",
      "CustomerID     135080\n",
      "Country             0\n",
      "dtype: int64\n",
      "\n",
      "\n",
      "Percentage of missing values: \n",
      "InvoiceNo        0.0%\n",
      "StockCode        0.0%\n",
      "Description     0.27%\n",
      "Quantity         0.0%\n",
      "InvoiceDate      0.0%\n",
      "UnitPrice        0.0%\n",
      "CustomerID     24.93%\n",
      "Country          0.0%\n",
      "dtype: object\n"
     ]
    },
    {
     "data": {
      "text/html": [
       "<div>\n",
       "<style scoped>\n",
       "    .dataframe tbody tr th:only-of-type {\n",
       "        vertical-align: middle;\n",
       "    }\n",
       "\n",
       "    .dataframe tbody tr th {\n",
       "        vertical-align: top;\n",
       "    }\n",
       "\n",
       "    .dataframe thead th {\n",
       "        text-align: right;\n",
       "    }\n",
       "</style>\n",
       "<table border=\"1\" class=\"dataframe\">\n",
       "  <thead>\n",
       "    <tr style=\"text-align: right;\">\n",
       "      <th></th>\n",
       "      <th>InvoiceNo</th>\n",
       "      <th>StockCode</th>\n",
       "      <th>Description</th>\n",
       "      <th>Quantity</th>\n",
       "      <th>InvoiceDate</th>\n",
       "      <th>UnitPrice</th>\n",
       "      <th>CustomerID</th>\n",
       "      <th>Country</th>\n",
       "    </tr>\n",
       "  </thead>\n",
       "  <tbody>\n",
       "    <tr>\n",
       "      <th>622</th>\n",
       "      <td>536414</td>\n",
       "      <td>22139</td>\n",
       "      <td>NaN</td>\n",
       "      <td>56</td>\n",
       "      <td>12/1/2010 11:52</td>\n",
       "      <td>0.00</td>\n",
       "      <td>NaN</td>\n",
       "      <td>United Kingdom</td>\n",
       "    </tr>\n",
       "    <tr>\n",
       "      <th>1443</th>\n",
       "      <td>536544</td>\n",
       "      <td>21773</td>\n",
       "      <td>DECORATIVE ROSE BATHROOM BOTTLE</td>\n",
       "      <td>1</td>\n",
       "      <td>12/1/2010 14:32</td>\n",
       "      <td>2.51</td>\n",
       "      <td>NaN</td>\n",
       "      <td>United Kingdom</td>\n",
       "    </tr>\n",
       "    <tr>\n",
       "      <th>1444</th>\n",
       "      <td>536544</td>\n",
       "      <td>21774</td>\n",
       "      <td>DECORATIVE CATS BATHROOM BOTTLE</td>\n",
       "      <td>2</td>\n",
       "      <td>12/1/2010 14:32</td>\n",
       "      <td>2.51</td>\n",
       "      <td>NaN</td>\n",
       "      <td>United Kingdom</td>\n",
       "    </tr>\n",
       "    <tr>\n",
       "      <th>1445</th>\n",
       "      <td>536544</td>\n",
       "      <td>21786</td>\n",
       "      <td>POLKADOT RAIN HAT</td>\n",
       "      <td>4</td>\n",
       "      <td>12/1/2010 14:32</td>\n",
       "      <td>0.85</td>\n",
       "      <td>NaN</td>\n",
       "      <td>United Kingdom</td>\n",
       "    </tr>\n",
       "    <tr>\n",
       "      <th>1446</th>\n",
       "      <td>536544</td>\n",
       "      <td>21787</td>\n",
       "      <td>RAIN PONCHO RETROSPOT</td>\n",
       "      <td>2</td>\n",
       "      <td>12/1/2010 14:32</td>\n",
       "      <td>1.66</td>\n",
       "      <td>NaN</td>\n",
       "      <td>United Kingdom</td>\n",
       "    </tr>\n",
       "    <tr>\n",
       "      <th>...</th>\n",
       "      <td>...</td>\n",
       "      <td>...</td>\n",
       "      <td>...</td>\n",
       "      <td>...</td>\n",
       "      <td>...</td>\n",
       "      <td>...</td>\n",
       "      <td>...</td>\n",
       "      <td>...</td>\n",
       "    </tr>\n",
       "    <tr>\n",
       "      <th>541536</th>\n",
       "      <td>581498</td>\n",
       "      <td>85099B</td>\n",
       "      <td>JUMBO BAG RED RETROSPOT</td>\n",
       "      <td>5</td>\n",
       "      <td>12/9/2011 10:26</td>\n",
       "      <td>4.13</td>\n",
       "      <td>NaN</td>\n",
       "      <td>United Kingdom</td>\n",
       "    </tr>\n",
       "    <tr>\n",
       "      <th>541537</th>\n",
       "      <td>581498</td>\n",
       "      <td>85099C</td>\n",
       "      <td>JUMBO  BAG BAROQUE BLACK WHITE</td>\n",
       "      <td>4</td>\n",
       "      <td>12/9/2011 10:26</td>\n",
       "      <td>4.13</td>\n",
       "      <td>NaN</td>\n",
       "      <td>United Kingdom</td>\n",
       "    </tr>\n",
       "    <tr>\n",
       "      <th>541538</th>\n",
       "      <td>581498</td>\n",
       "      <td>85150</td>\n",
       "      <td>LADIES &amp; GENTLEMEN METAL SIGN</td>\n",
       "      <td>1</td>\n",
       "      <td>12/9/2011 10:26</td>\n",
       "      <td>4.96</td>\n",
       "      <td>NaN</td>\n",
       "      <td>United Kingdom</td>\n",
       "    </tr>\n",
       "    <tr>\n",
       "      <th>541539</th>\n",
       "      <td>581498</td>\n",
       "      <td>85174</td>\n",
       "      <td>S/4 CACTI CANDLES</td>\n",
       "      <td>1</td>\n",
       "      <td>12/9/2011 10:26</td>\n",
       "      <td>10.79</td>\n",
       "      <td>NaN</td>\n",
       "      <td>United Kingdom</td>\n",
       "    </tr>\n",
       "    <tr>\n",
       "      <th>541540</th>\n",
       "      <td>581498</td>\n",
       "      <td>DOT</td>\n",
       "      <td>DOTCOM POSTAGE</td>\n",
       "      <td>1</td>\n",
       "      <td>12/9/2011 10:26</td>\n",
       "      <td>1714.17</td>\n",
       "      <td>NaN</td>\n",
       "      <td>United Kingdom</td>\n",
       "    </tr>\n",
       "  </tbody>\n",
       "</table>\n",
       "<p>135080 rows × 8 columns</p>\n",
       "</div>"
      ],
      "text/plain": [
       "       InvoiceNo StockCode                      Description  Quantity  \\\n",
       "622       536414     22139                              NaN        56   \n",
       "1443      536544     21773  DECORATIVE ROSE BATHROOM BOTTLE         1   \n",
       "1444      536544     21774  DECORATIVE CATS BATHROOM BOTTLE         2   \n",
       "1445      536544     21786               POLKADOT RAIN HAT          4   \n",
       "1446      536544     21787            RAIN PONCHO RETROSPOT         2   \n",
       "...          ...       ...                              ...       ...   \n",
       "541536    581498    85099B          JUMBO BAG RED RETROSPOT         5   \n",
       "541537    581498    85099C   JUMBO  BAG BAROQUE BLACK WHITE         4   \n",
       "541538    581498     85150    LADIES & GENTLEMEN METAL SIGN         1   \n",
       "541539    581498     85174                S/4 CACTI CANDLES         1   \n",
       "541540    581498       DOT                   DOTCOM POSTAGE         1   \n",
       "\n",
       "            InvoiceDate  UnitPrice  CustomerID         Country  \n",
       "622     12/1/2010 11:52       0.00         NaN  United Kingdom  \n",
       "1443    12/1/2010 14:32       2.51         NaN  United Kingdom  \n",
       "1444    12/1/2010 14:32       2.51         NaN  United Kingdom  \n",
       "1445    12/1/2010 14:32       0.85         NaN  United Kingdom  \n",
       "1446    12/1/2010 14:32       1.66         NaN  United Kingdom  \n",
       "...                 ...        ...         ...             ...  \n",
       "541536  12/9/2011 10:26       4.13         NaN  United Kingdom  \n",
       "541537  12/9/2011 10:26       4.13         NaN  United Kingdom  \n",
       "541538  12/9/2011 10:26       4.96         NaN  United Kingdom  \n",
       "541539  12/9/2011 10:26      10.79         NaN  United Kingdom  \n",
       "541540  12/9/2011 10:26    1714.17         NaN  United Kingdom  \n",
       "\n",
       "[135080 rows x 8 columns]"
      ]
     },
     "execution_count": 154,
     "metadata": {},
     "output_type": "execute_result"
    }
   ],
   "source": [
    "#check missing values\n",
    "print(f'Missing values for each columns:\\n{df.isnull().sum()}')\n",
    "print('\\n')\n",
    "print(f'Percentage of missing values: \\n{(df.isnull().sum() / len(df) * 100).round(2).astype(str) + '%'}')\n",
    "\n",
    "df[df.isnull().any(axis=1)]"
   ]
  },
  {
   "cell_type": "code",
   "execution_count": 155,
   "metadata": {},
   "outputs": [],
   "source": [
    "#remove missing values\n",
    "\n",
    "df = df.dropna(subset= ['Description', 'CustomerID'])"
   ]
  },
  {
   "cell_type": "code",
   "execution_count": 156,
   "metadata": {},
   "outputs": [
    {
     "name": "stdout",
     "output_type": "stream",
     "text": [
      "Missing values for each columns:\n",
      "InvoiceNo      0\n",
      "StockCode      0\n",
      "Description    0\n",
      "Quantity       0\n",
      "InvoiceDate    0\n",
      "UnitPrice      0\n",
      "CustomerID     0\n",
      "Country        0\n",
      "dtype: int64\n",
      "\n",
      "\n",
      "Percentage of missing values: \n",
      "InvoiceNo      0.0%\n",
      "StockCode      0.0%\n",
      "Description    0.0%\n",
      "Quantity       0.0%\n",
      "InvoiceDate    0.0%\n",
      "UnitPrice      0.0%\n",
      "CustomerID     0.0%\n",
      "Country        0.0%\n",
      "dtype: object\n"
     ]
    }
   ],
   "source": [
    "# re-check missing values\n",
    "\n",
    "print(f'Missing values for each columns:\\n{df.isnull().sum()}')\n",
    "print('\\n')\n",
    "print(f'Percentage of missing values: \\n{(df.isnull().sum() / len(df) * 100).round(2).astype(str) + '%'}')"
   ]
  },
  {
   "cell_type": "code",
   "execution_count": 157,
   "metadata": {},
   "outputs": [
    {
     "name": "stdout",
     "output_type": "stream",
     "text": [
      "Total duplicated: 5225\n"
     ]
    },
    {
     "data": {
      "text/html": [
       "<div>\n",
       "<style scoped>\n",
       "    .dataframe tbody tr th:only-of-type {\n",
       "        vertical-align: middle;\n",
       "    }\n",
       "\n",
       "    .dataframe tbody tr th {\n",
       "        vertical-align: top;\n",
       "    }\n",
       "\n",
       "    .dataframe thead th {\n",
       "        text-align: right;\n",
       "    }\n",
       "</style>\n",
       "<table border=\"1\" class=\"dataframe\">\n",
       "  <thead>\n",
       "    <tr style=\"text-align: right;\">\n",
       "      <th></th>\n",
       "      <th>InvoiceNo</th>\n",
       "      <th>StockCode</th>\n",
       "      <th>Description</th>\n",
       "      <th>Quantity</th>\n",
       "      <th>InvoiceDate</th>\n",
       "      <th>UnitPrice</th>\n",
       "      <th>CustomerID</th>\n",
       "      <th>Country</th>\n",
       "    </tr>\n",
       "  </thead>\n",
       "  <tbody>\n",
       "    <tr>\n",
       "      <th>517</th>\n",
       "      <td>536409</td>\n",
       "      <td>21866</td>\n",
       "      <td>UNION JACK FLAG LUGGAGE TAG</td>\n",
       "      <td>1</td>\n",
       "      <td>12/1/2010 11:45</td>\n",
       "      <td>1.25</td>\n",
       "      <td>17908.00</td>\n",
       "      <td>United Kingdom</td>\n",
       "    </tr>\n",
       "    <tr>\n",
       "      <th>527</th>\n",
       "      <td>536409</td>\n",
       "      <td>22866</td>\n",
       "      <td>HAND WARMER SCOTTY DOG DESIGN</td>\n",
       "      <td>1</td>\n",
       "      <td>12/1/2010 11:45</td>\n",
       "      <td>2.10</td>\n",
       "      <td>17908.00</td>\n",
       "      <td>United Kingdom</td>\n",
       "    </tr>\n",
       "    <tr>\n",
       "      <th>537</th>\n",
       "      <td>536409</td>\n",
       "      <td>22900</td>\n",
       "      <td>SET 2 TEA TOWELS I LOVE LONDON</td>\n",
       "      <td>1</td>\n",
       "      <td>12/1/2010 11:45</td>\n",
       "      <td>2.95</td>\n",
       "      <td>17908.00</td>\n",
       "      <td>United Kingdom</td>\n",
       "    </tr>\n",
       "    <tr>\n",
       "      <th>539</th>\n",
       "      <td>536409</td>\n",
       "      <td>22111</td>\n",
       "      <td>SCOTTIE DOG HOT WATER BOTTLE</td>\n",
       "      <td>1</td>\n",
       "      <td>12/1/2010 11:45</td>\n",
       "      <td>4.95</td>\n",
       "      <td>17908.00</td>\n",
       "      <td>United Kingdom</td>\n",
       "    </tr>\n",
       "    <tr>\n",
       "      <th>555</th>\n",
       "      <td>536412</td>\n",
       "      <td>22327</td>\n",
       "      <td>ROUND SNACK BOXES SET OF 4 SKULLS</td>\n",
       "      <td>1</td>\n",
       "      <td>12/1/2010 11:49</td>\n",
       "      <td>2.95</td>\n",
       "      <td>17920.00</td>\n",
       "      <td>United Kingdom</td>\n",
       "    </tr>\n",
       "    <tr>\n",
       "      <th>...</th>\n",
       "      <td>...</td>\n",
       "      <td>...</td>\n",
       "      <td>...</td>\n",
       "      <td>...</td>\n",
       "      <td>...</td>\n",
       "      <td>...</td>\n",
       "      <td>...</td>\n",
       "      <td>...</td>\n",
       "    </tr>\n",
       "    <tr>\n",
       "      <th>541675</th>\n",
       "      <td>581538</td>\n",
       "      <td>22068</td>\n",
       "      <td>BLACK PIRATE TREASURE CHEST</td>\n",
       "      <td>1</td>\n",
       "      <td>12/9/2011 11:34</td>\n",
       "      <td>0.39</td>\n",
       "      <td>14446.00</td>\n",
       "      <td>United Kingdom</td>\n",
       "    </tr>\n",
       "    <tr>\n",
       "      <th>541689</th>\n",
       "      <td>581538</td>\n",
       "      <td>23318</td>\n",
       "      <td>BOX OF 6 MINI VINTAGE CRACKERS</td>\n",
       "      <td>1</td>\n",
       "      <td>12/9/2011 11:34</td>\n",
       "      <td>2.49</td>\n",
       "      <td>14446.00</td>\n",
       "      <td>United Kingdom</td>\n",
       "    </tr>\n",
       "    <tr>\n",
       "      <th>541692</th>\n",
       "      <td>581538</td>\n",
       "      <td>22992</td>\n",
       "      <td>REVOLVER WOODEN RULER</td>\n",
       "      <td>1</td>\n",
       "      <td>12/9/2011 11:34</td>\n",
       "      <td>1.95</td>\n",
       "      <td>14446.00</td>\n",
       "      <td>United Kingdom</td>\n",
       "    </tr>\n",
       "    <tr>\n",
       "      <th>541699</th>\n",
       "      <td>581538</td>\n",
       "      <td>22694</td>\n",
       "      <td>WICKER STAR</td>\n",
       "      <td>1</td>\n",
       "      <td>12/9/2011 11:34</td>\n",
       "      <td>2.10</td>\n",
       "      <td>14446.00</td>\n",
       "      <td>United Kingdom</td>\n",
       "    </tr>\n",
       "    <tr>\n",
       "      <th>541701</th>\n",
       "      <td>581538</td>\n",
       "      <td>23343</td>\n",
       "      <td>JUMBO BAG VINTAGE CHRISTMAS</td>\n",
       "      <td>1</td>\n",
       "      <td>12/9/2011 11:34</td>\n",
       "      <td>2.08</td>\n",
       "      <td>14446.00</td>\n",
       "      <td>United Kingdom</td>\n",
       "    </tr>\n",
       "  </tbody>\n",
       "</table>\n",
       "<p>5225 rows × 8 columns</p>\n",
       "</div>"
      ],
      "text/plain": [
       "       InvoiceNo StockCode                        Description  Quantity  \\\n",
       "517       536409     21866        UNION JACK FLAG LUGGAGE TAG         1   \n",
       "527       536409     22866      HAND WARMER SCOTTY DOG DESIGN         1   \n",
       "537       536409     22900    SET 2 TEA TOWELS I LOVE LONDON          1   \n",
       "539       536409     22111       SCOTTIE DOG HOT WATER BOTTLE         1   \n",
       "555       536412     22327  ROUND SNACK BOXES SET OF 4 SKULLS         1   \n",
       "...          ...       ...                                ...       ...   \n",
       "541675    581538     22068        BLACK PIRATE TREASURE CHEST         1   \n",
       "541689    581538     23318     BOX OF 6 MINI VINTAGE CRACKERS         1   \n",
       "541692    581538     22992             REVOLVER WOODEN RULER          1   \n",
       "541699    581538     22694                       WICKER STAR          1   \n",
       "541701    581538     23343       JUMBO BAG VINTAGE CHRISTMAS          1   \n",
       "\n",
       "            InvoiceDate  UnitPrice  CustomerID         Country  \n",
       "517     12/1/2010 11:45       1.25    17908.00  United Kingdom  \n",
       "527     12/1/2010 11:45       2.10    17908.00  United Kingdom  \n",
       "537     12/1/2010 11:45       2.95    17908.00  United Kingdom  \n",
       "539     12/1/2010 11:45       4.95    17908.00  United Kingdom  \n",
       "555     12/1/2010 11:49       2.95    17920.00  United Kingdom  \n",
       "...                 ...        ...         ...             ...  \n",
       "541675  12/9/2011 11:34       0.39    14446.00  United Kingdom  \n",
       "541689  12/9/2011 11:34       2.49    14446.00  United Kingdom  \n",
       "541692  12/9/2011 11:34       1.95    14446.00  United Kingdom  \n",
       "541699  12/9/2011 11:34       2.10    14446.00  United Kingdom  \n",
       "541701  12/9/2011 11:34       2.08    14446.00  United Kingdom  \n",
       "\n",
       "[5225 rows x 8 columns]"
      ]
     },
     "execution_count": 157,
     "metadata": {},
     "output_type": "execute_result"
    }
   ],
   "source": [
    "# check duplicates\n",
    "\n",
    "print(f'Total duplicated: {df.duplicated().sum()}')\n",
    "\n",
    "df[df.duplicated()]"
   ]
  },
  {
   "cell_type": "code",
   "execution_count": 158,
   "metadata": {},
   "outputs": [
    {
     "name": "stdout",
     "output_type": "stream",
     "text": [
      "Total duplicated: 0\n"
     ]
    }
   ],
   "source": [
    "# renove duplicates\n",
    "\n",
    "df.drop_duplicates(keep= 'first', inplace= True)\n",
    "\n",
    "# re-check duplicates\n",
    "\n",
    "print(f'Total duplicated: {df.duplicated().sum()}')"
   ]
  },
  {
   "cell_type": "code",
   "execution_count": 159,
   "metadata": {},
   "outputs": [
    {
     "name": "stdout",
     "output_type": "stream",
     "text": [
      "Unit Price below 0: 40\n"
     ]
    }
   ],
   "source": [
    "#check anomali data\n",
    "\n",
    "print(f'Unit Price below 0: {len(df[df['UnitPrice'] <= 0])}')"
   ]
  },
  {
   "cell_type": "code",
   "execution_count": 160,
   "metadata": {},
   "outputs": [
    {
     "name": "stdout",
     "output_type": "stream",
     "text": [
      "Unit Price below 0: 0\n"
     ]
    }
   ],
   "source": [
    "# filter data \n",
    "\n",
    "df = df[\n",
    "    (df['UnitPrice'] >= 0.01)\n",
    "    ]\n",
    "\n",
    "#re-check\n",
    "print(f'Unit Price below 0: {len(df[df['UnitPrice'] <= 0])}')"
   ]
  },
  {
   "cell_type": "code",
   "execution_count": 161,
   "metadata": {},
   "outputs": [
    {
     "name": "stdout",
     "output_type": "stream",
     "text": [
      "there were 8872 canceled transactions\n"
     ]
    }
   ],
   "source": [
    "# check cancel transactions\n",
    "print(f'there were {len(df[df['InvoiceNo'].str.contains('C')])} canceled transactions')"
   ]
  },
  {
   "cell_type": "code",
   "execution_count": 162,
   "metadata": {},
   "outputs": [
    {
     "data": {
      "text/html": [
       "<div>\n",
       "<style scoped>\n",
       "    .dataframe tbody tr th:only-of-type {\n",
       "        vertical-align: middle;\n",
       "    }\n",
       "\n",
       "    .dataframe tbody tr th {\n",
       "        vertical-align: top;\n",
       "    }\n",
       "\n",
       "    .dataframe thead th {\n",
       "        text-align: right;\n",
       "    }\n",
       "</style>\n",
       "<table border=\"1\" class=\"dataframe\">\n",
       "  <thead>\n",
       "    <tr style=\"text-align: right;\">\n",
       "      <th></th>\n",
       "      <th>InvoiceNo</th>\n",
       "      <th>StockCode</th>\n",
       "      <th>Description</th>\n",
       "      <th>Quantity</th>\n",
       "      <th>InvoiceDate</th>\n",
       "      <th>UnitPrice</th>\n",
       "      <th>CustomerID</th>\n",
       "      <th>Country</th>\n",
       "      <th>Year</th>\n",
       "      <th>Month</th>\n",
       "      <th>YearMonth</th>\n",
       "      <th>InvoiceDay</th>\n",
       "      <th>TotalSpend</th>\n",
       "      <th>Status</th>\n",
       "    </tr>\n",
       "  </thead>\n",
       "  <tbody>\n",
       "    <tr>\n",
       "      <th>0</th>\n",
       "      <td>536365</td>\n",
       "      <td>85123A</td>\n",
       "      <td>WHITE HANGING HEART T-LIGHT HOLDER</td>\n",
       "      <td>6</td>\n",
       "      <td>2010-12-01 08:26:00</td>\n",
       "      <td>2.55</td>\n",
       "      <td>17850</td>\n",
       "      <td>United Kingdom</td>\n",
       "      <td>2010</td>\n",
       "      <td>December</td>\n",
       "      <td>2010-12</td>\n",
       "      <td>2010-12-01</td>\n",
       "      <td>15.30</td>\n",
       "      <td>Completed</td>\n",
       "    </tr>\n",
       "    <tr>\n",
       "      <th>1</th>\n",
       "      <td>536365</td>\n",
       "      <td>71053</td>\n",
       "      <td>WHITE METAL LANTERN</td>\n",
       "      <td>6</td>\n",
       "      <td>2010-12-01 08:26:00</td>\n",
       "      <td>3.39</td>\n",
       "      <td>17850</td>\n",
       "      <td>United Kingdom</td>\n",
       "      <td>2010</td>\n",
       "      <td>December</td>\n",
       "      <td>2010-12</td>\n",
       "      <td>2010-12-01</td>\n",
       "      <td>20.34</td>\n",
       "      <td>Completed</td>\n",
       "    </tr>\n",
       "    <tr>\n",
       "      <th>2</th>\n",
       "      <td>536365</td>\n",
       "      <td>84406B</td>\n",
       "      <td>CREAM CUPID HEARTS COAT HANGER</td>\n",
       "      <td>8</td>\n",
       "      <td>2010-12-01 08:26:00</td>\n",
       "      <td>2.75</td>\n",
       "      <td>17850</td>\n",
       "      <td>United Kingdom</td>\n",
       "      <td>2010</td>\n",
       "      <td>December</td>\n",
       "      <td>2010-12</td>\n",
       "      <td>2010-12-01</td>\n",
       "      <td>22.00</td>\n",
       "      <td>Completed</td>\n",
       "    </tr>\n",
       "    <tr>\n",
       "      <th>3</th>\n",
       "      <td>536365</td>\n",
       "      <td>84029G</td>\n",
       "      <td>KNITTED UNION FLAG HOT WATER BOTTLE</td>\n",
       "      <td>6</td>\n",
       "      <td>2010-12-01 08:26:00</td>\n",
       "      <td>3.39</td>\n",
       "      <td>17850</td>\n",
       "      <td>United Kingdom</td>\n",
       "      <td>2010</td>\n",
       "      <td>December</td>\n",
       "      <td>2010-12</td>\n",
       "      <td>2010-12-01</td>\n",
       "      <td>20.34</td>\n",
       "      <td>Completed</td>\n",
       "    </tr>\n",
       "    <tr>\n",
       "      <th>4</th>\n",
       "      <td>536365</td>\n",
       "      <td>84029E</td>\n",
       "      <td>RED WOOLLY HOTTIE WHITE HEART.</td>\n",
       "      <td>6</td>\n",
       "      <td>2010-12-01 08:26:00</td>\n",
       "      <td>3.39</td>\n",
       "      <td>17850</td>\n",
       "      <td>United Kingdom</td>\n",
       "      <td>2010</td>\n",
       "      <td>December</td>\n",
       "      <td>2010-12</td>\n",
       "      <td>2010-12-01</td>\n",
       "      <td>20.34</td>\n",
       "      <td>Completed</td>\n",
       "    </tr>\n",
       "  </tbody>\n",
       "</table>\n",
       "</div>"
      ],
      "text/plain": [
       "  InvoiceNo StockCode                          Description  Quantity  \\\n",
       "0    536365    85123A   WHITE HANGING HEART T-LIGHT HOLDER         6   \n",
       "1    536365     71053                  WHITE METAL LANTERN         6   \n",
       "2    536365    84406B       CREAM CUPID HEARTS COAT HANGER         8   \n",
       "3    536365    84029G  KNITTED UNION FLAG HOT WATER BOTTLE         6   \n",
       "4    536365    84029E       RED WOOLLY HOTTIE WHITE HEART.         6   \n",
       "\n",
       "          InvoiceDate  UnitPrice  CustomerID         Country  Year     Month  \\\n",
       "0 2010-12-01 08:26:00       2.55       17850  United Kingdom  2010  December   \n",
       "1 2010-12-01 08:26:00       3.39       17850  United Kingdom  2010  December   \n",
       "2 2010-12-01 08:26:00       2.75       17850  United Kingdom  2010  December   \n",
       "3 2010-12-01 08:26:00       3.39       17850  United Kingdom  2010  December   \n",
       "4 2010-12-01 08:26:00       3.39       17850  United Kingdom  2010  December   \n",
       "\n",
       "  YearMonth InvoiceDay  TotalSpend     Status  \n",
       "0   2010-12 2010-12-01       15.30  Completed  \n",
       "1   2010-12 2010-12-01       20.34  Completed  \n",
       "2   2010-12 2010-12-01       22.00  Completed  \n",
       "3   2010-12 2010-12-01       20.34  Completed  \n",
       "4   2010-12 2010-12-01       20.34  Completed  "
      ]
     },
     "execution_count": 162,
     "metadata": {},
     "output_type": "execute_result"
    }
   ],
   "source": [
    "# change datatype for 'InvoiceDate' and 'CustomerID'\n",
    "df['InvoiceDate'] = pd.to_datetime(df['InvoiceDate'])\n",
    "df['CustomerID'] = df['CustomerID'].astype(int)\n",
    "\n",
    "# Add new columns\n",
    "df['Year'] = df['InvoiceDate'].dt.year\n",
    "df['Month'] = df['InvoiceDate'].dt.month_name()\n",
    "df['YearMonth'] = df['InvoiceDate'].dt.to_period('M')\n",
    "df['InvoiceDay'] = df['InvoiceDate'].dt.date\n",
    "df['InvoiceDay'] = pd.to_datetime(df['InvoiceDay'])\n",
    "df['TotalSpend'] = df['UnitPrice'] * df['Quantity']\n",
    "df['Status'] = np.where(df['InvoiceNo'].astype(str).str.startswith('C'), 'Canceled', 'Completed')\n",
    "\n",
    "\n",
    "df = df.sort_values(by = 'InvoiceDate', ascending= True).reset_index(drop= True)\n",
    "\n",
    "df.head()"
   ]
  },
  {
   "cell_type": "markdown",
   "metadata": {},
   "source": [
    "# Customer Data"
   ]
  },
  {
   "cell_type": "code",
   "execution_count": 163,
   "metadata": {},
   "outputs": [
    {
     "data": {
      "text/html": [
       "<div>\n",
       "<style scoped>\n",
       "    .dataframe tbody tr th:only-of-type {\n",
       "        vertical-align: middle;\n",
       "    }\n",
       "\n",
       "    .dataframe tbody tr th {\n",
       "        vertical-align: top;\n",
       "    }\n",
       "\n",
       "    .dataframe thead th {\n",
       "        text-align: right;\n",
       "    }\n",
       "</style>\n",
       "<table border=\"1\" class=\"dataframe\">\n",
       "  <thead>\n",
       "    <tr style=\"text-align: right;\">\n",
       "      <th></th>\n",
       "      <th>CustomerID</th>\n",
       "      <th>Day_Last_Purchase</th>\n",
       "      <th>Total_Transaction</th>\n",
       "      <th>Total_Purchase_Products</th>\n",
       "      <th>Total_Spend</th>\n",
       "    </tr>\n",
       "  </thead>\n",
       "  <tbody>\n",
       "    <tr>\n",
       "      <th>0</th>\n",
       "      <td>12346</td>\n",
       "      <td>325</td>\n",
       "      <td>2</td>\n",
       "      <td>0</td>\n",
       "      <td>0.00</td>\n",
       "    </tr>\n",
       "    <tr>\n",
       "      <th>1</th>\n",
       "      <td>12347</td>\n",
       "      <td>2</td>\n",
       "      <td>7</td>\n",
       "      <td>2458</td>\n",
       "      <td>4310.00</td>\n",
       "    </tr>\n",
       "    <tr>\n",
       "      <th>2</th>\n",
       "      <td>12348</td>\n",
       "      <td>75</td>\n",
       "      <td>4</td>\n",
       "      <td>2341</td>\n",
       "      <td>1797.24</td>\n",
       "    </tr>\n",
       "    <tr>\n",
       "      <th>3</th>\n",
       "      <td>12349</td>\n",
       "      <td>18</td>\n",
       "      <td>1</td>\n",
       "      <td>631</td>\n",
       "      <td>1757.55</td>\n",
       "    </tr>\n",
       "    <tr>\n",
       "      <th>4</th>\n",
       "      <td>12350</td>\n",
       "      <td>310</td>\n",
       "      <td>1</td>\n",
       "      <td>197</td>\n",
       "      <td>334.40</td>\n",
       "    </tr>\n",
       "    <tr>\n",
       "      <th>...</th>\n",
       "      <td>...</td>\n",
       "      <td>...</td>\n",
       "      <td>...</td>\n",
       "      <td>...</td>\n",
       "      <td>...</td>\n",
       "    </tr>\n",
       "    <tr>\n",
       "      <th>4366</th>\n",
       "      <td>18280</td>\n",
       "      <td>277</td>\n",
       "      <td>1</td>\n",
       "      <td>45</td>\n",
       "      <td>180.60</td>\n",
       "    </tr>\n",
       "    <tr>\n",
       "      <th>4367</th>\n",
       "      <td>18281</td>\n",
       "      <td>180</td>\n",
       "      <td>1</td>\n",
       "      <td>54</td>\n",
       "      <td>80.82</td>\n",
       "    </tr>\n",
       "    <tr>\n",
       "      <th>4368</th>\n",
       "      <td>18282</td>\n",
       "      <td>7</td>\n",
       "      <td>3</td>\n",
       "      <td>98</td>\n",
       "      <td>176.60</td>\n",
       "    </tr>\n",
       "    <tr>\n",
       "      <th>4369</th>\n",
       "      <td>18283</td>\n",
       "      <td>3</td>\n",
       "      <td>16</td>\n",
       "      <td>1357</td>\n",
       "      <td>2045.53</td>\n",
       "    </tr>\n",
       "    <tr>\n",
       "      <th>4370</th>\n",
       "      <td>18287</td>\n",
       "      <td>42</td>\n",
       "      <td>3</td>\n",
       "      <td>1586</td>\n",
       "      <td>1837.28</td>\n",
       "    </tr>\n",
       "  </tbody>\n",
       "</table>\n",
       "<p>4371 rows × 5 columns</p>\n",
       "</div>"
      ],
      "text/plain": [
       "      CustomerID  Day_Last_Purchase  Total_Transaction  \\\n",
       "0          12346                325                  2   \n",
       "1          12347                  2                  7   \n",
       "2          12348                 75                  4   \n",
       "3          12349                 18                  1   \n",
       "4          12350                310                  1   \n",
       "...          ...                ...                ...   \n",
       "4366       18280                277                  1   \n",
       "4367       18281                180                  1   \n",
       "4368       18282                  7                  3   \n",
       "4369       18283                  3                 16   \n",
       "4370       18287                 42                  3   \n",
       "\n",
       "      Total_Purchase_Products  Total_Spend  \n",
       "0                           0         0.00  \n",
       "1                        2458      4310.00  \n",
       "2                        2341      1797.24  \n",
       "3                         631      1757.55  \n",
       "4                         197       334.40  \n",
       "...                       ...          ...  \n",
       "4366                       45       180.60  \n",
       "4367                       54        80.82  \n",
       "4368                       98       176.60  \n",
       "4369                     1357      2045.53  \n",
       "4370                     1586      1837.28  \n",
       "\n",
       "[4371 rows x 5 columns]"
      ]
     },
     "execution_count": 163,
     "metadata": {},
     "output_type": "execute_result"
    }
   ],
   "source": [
    "# Recency\n",
    "last_purchase_dates = df.groupby('CustomerID')['InvoiceDay'].max().reset_index()\n",
    "last_purchase_dates.rename(columns={'InvoiceDay': 'LastPurchaseDate'}, inplace=True)\n",
    "\n",
    "recent_dates_data = df['InvoiceDay'].max()\n",
    "recent_dates_data = pd.to_datetime(recent_dates_data)\n",
    "\n",
    "last_purchase_dates['Day_Last_Purchase'] = (recent_dates_data - last_purchase_dates['LastPurchaseDate']).dt.days\n",
    "last_purchase_dates = last_purchase_dates.drop(columns= 'LastPurchaseDate')\n",
    "'----------------------------------------------------------------------------------------------------------------------'\n",
    "# Frequency\n",
    "total_transaction = df.groupby('CustomerID')['InvoiceNo'].nunique().reset_index()\n",
    "total_transaction = total_transaction.rename(columns= {'InvoiceNo' : 'Total_Transaction'})\n",
    "'----------------------------------------------------------------------------------------------------------------------'\n",
    "total_product_purchase = df.groupby('CustomerID')['Quantity'].sum().reset_index()\n",
    "total_product_purchase = total_product_purchase.rename(columns= {'Quantity' : 'Total_Purchase_Products'})\n",
    "'----------------------------------------------------------------------------------------------------------------------'\n",
    "# Monetary\n",
    "total_spend = df.groupby('CustomerID')['TotalSpend'].sum().reset_index()\n",
    "total_spend = total_spend.rename(columns= {'TotalSpend' : 'Total_Spend'})\n",
    "'----------------------------------------------------------------------------------------------------------------------'\n",
    "# Merge data\n",
    "customer_data = pd.merge(last_purchase_dates, total_transaction, on= 'CustomerID')\n",
    "customer_data = pd.merge(customer_data, total_product_purchase, on = 'CustomerID')\n",
    "customer_data = pd.merge(customer_data, total_spend, on = 'CustomerID')\n",
    "\n",
    "customer_data = customer_data.reset_index(drop=True)\n",
    "\n",
    "customer_data"
   ]
  },
  {
   "cell_type": "code",
   "execution_count": 164,
   "metadata": {},
   "outputs": [
    {
     "data": {
      "text/html": [
       "<div>\n",
       "<style scoped>\n",
       "    .dataframe tbody tr th:only-of-type {\n",
       "        vertical-align: middle;\n",
       "    }\n",
       "\n",
       "    .dataframe tbody tr th {\n",
       "        vertical-align: top;\n",
       "    }\n",
       "\n",
       "    .dataframe thead th {\n",
       "        text-align: right;\n",
       "    }\n",
       "</style>\n",
       "<table border=\"1\" class=\"dataframe\">\n",
       "  <thead>\n",
       "    <tr style=\"text-align: right;\">\n",
       "      <th></th>\n",
       "      <th>CustomerID</th>\n",
       "      <th>Day_Last_Purchase</th>\n",
       "      <th>Total_Transaction</th>\n",
       "      <th>Total_Purchase_Products</th>\n",
       "      <th>Total_Spend</th>\n",
       "    </tr>\n",
       "  </thead>\n",
       "  <tbody>\n",
       "    <tr>\n",
       "      <th>0</th>\n",
       "      <td>12346</td>\n",
       "      <td>325</td>\n",
       "      <td>2</td>\n",
       "      <td>0</td>\n",
       "      <td>0.00</td>\n",
       "    </tr>\n",
       "    <tr>\n",
       "      <th>89</th>\n",
       "      <td>12454</td>\n",
       "      <td>53</td>\n",
       "      <td>2</td>\n",
       "      <td>0</td>\n",
       "      <td>-0.00</td>\n",
       "    </tr>\n",
       "    <tr>\n",
       "      <th>125</th>\n",
       "      <td>12503</td>\n",
       "      <td>337</td>\n",
       "      <td>1</td>\n",
       "      <td>-1</td>\n",
       "      <td>-1126.00</td>\n",
       "    </tr>\n",
       "    <tr>\n",
       "      <th>127</th>\n",
       "      <td>12505</td>\n",
       "      <td>301</td>\n",
       "      <td>1</td>\n",
       "      <td>-1</td>\n",
       "      <td>-4.50</td>\n",
       "    </tr>\n",
       "    <tr>\n",
       "      <th>170</th>\n",
       "      <td>12558</td>\n",
       "      <td>1</td>\n",
       "      <td>2</td>\n",
       "      <td>0</td>\n",
       "      <td>0.00</td>\n",
       "    </tr>\n",
       "    <tr>\n",
       "      <th>212</th>\n",
       "      <td>12605</td>\n",
       "      <td>365</td>\n",
       "      <td>1</td>\n",
       "      <td>-4</td>\n",
       "      <td>-7.50</td>\n",
       "    </tr>\n",
       "    <tr>\n",
       "      <th>213</th>\n",
       "      <td>12607</td>\n",
       "      <td>58</td>\n",
       "      <td>2</td>\n",
       "      <td>0</td>\n",
       "      <td>0.00</td>\n",
       "    </tr>\n",
       "    <tr>\n",
       "      <th>264</th>\n",
       "      <td>12666</td>\n",
       "      <td>359</td>\n",
       "      <td>1</td>\n",
       "      <td>-56</td>\n",
       "      <td>-227.44</td>\n",
       "    </tr>\n",
       "    <tr>\n",
       "      <th>415</th>\n",
       "      <td>12870</td>\n",
       "      <td>366</td>\n",
       "      <td>1</td>\n",
       "      <td>-2</td>\n",
       "      <td>-14.90</td>\n",
       "    </tr>\n",
       "    <tr>\n",
       "      <th>440</th>\n",
       "      <td>12908</td>\n",
       "      <td>58</td>\n",
       "      <td>4</td>\n",
       "      <td>0</td>\n",
       "      <td>246.00</td>\n",
       "    </tr>\n",
       "    <tr>\n",
       "      <th>467</th>\n",
       "      <td>12943</td>\n",
       "      <td>301</td>\n",
       "      <td>1</td>\n",
       "      <td>-1</td>\n",
       "      <td>-3.75</td>\n",
       "    </tr>\n",
       "    <tr>\n",
       "      <th>619</th>\n",
       "      <td>13154</td>\n",
       "      <td>144</td>\n",
       "      <td>1</td>\n",
       "      <td>-1</td>\n",
       "      <td>-611.86</td>\n",
       "    </tr>\n",
       "    <tr>\n",
       "      <th>774</th>\n",
       "      <td>13364</td>\n",
       "      <td>66</td>\n",
       "      <td>2</td>\n",
       "      <td>0</td>\n",
       "      <td>-0.00</td>\n",
       "    </tr>\n",
       "    <tr>\n",
       "      <th>990</th>\n",
       "      <td>13672</td>\n",
       "      <td>301</td>\n",
       "      <td>6</td>\n",
       "      <td>-1</td>\n",
       "      <td>-71.46</td>\n",
       "    </tr>\n",
       "    <tr>\n",
       "      <th>1003</th>\n",
       "      <td>13693</td>\n",
       "      <td>325</td>\n",
       "      <td>2</td>\n",
       "      <td>-6</td>\n",
       "      <td>-32.00</td>\n",
       "    </tr>\n",
       "    <tr>\n",
       "      <th>1058</th>\n",
       "      <td>13762</td>\n",
       "      <td>204</td>\n",
       "      <td>2</td>\n",
       "      <td>0</td>\n",
       "      <td>0.00</td>\n",
       "    </tr>\n",
       "    <tr>\n",
       "      <th>1105</th>\n",
       "      <td>13829</td>\n",
       "      <td>359</td>\n",
       "      <td>1</td>\n",
       "      <td>-12</td>\n",
       "      <td>-102.00</td>\n",
       "    </tr>\n",
       "    <tr>\n",
       "      <th>1199</th>\n",
       "      <td>13958</td>\n",
       "      <td>372</td>\n",
       "      <td>1</td>\n",
       "      <td>-23</td>\n",
       "      <td>-102.45</td>\n",
       "    </tr>\n",
       "    <tr>\n",
       "      <th>1317</th>\n",
       "      <td>14119</td>\n",
       "      <td>354</td>\n",
       "      <td>1</td>\n",
       "      <td>-2</td>\n",
       "      <td>-19.90</td>\n",
       "    </tr>\n",
       "    <tr>\n",
       "      <th>1383</th>\n",
       "      <td>14213</td>\n",
       "      <td>371</td>\n",
       "      <td>1</td>\n",
       "      <td>-244</td>\n",
       "      <td>-1192.20</td>\n",
       "    </tr>\n",
       "    <tr>\n",
       "      <th>1641</th>\n",
       "      <td>14557</td>\n",
       "      <td>64</td>\n",
       "      <td>2</td>\n",
       "      <td>0</td>\n",
       "      <td>-0.00</td>\n",
       "    </tr>\n",
       "    <tr>\n",
       "      <th>1687</th>\n",
       "      <td>14627</td>\n",
       "      <td>311</td>\n",
       "      <td>1</td>\n",
       "      <td>-5</td>\n",
       "      <td>-21.85</td>\n",
       "    </tr>\n",
       "    <tr>\n",
       "      <th>1726</th>\n",
       "      <td>14679</td>\n",
       "      <td>371</td>\n",
       "      <td>1</td>\n",
       "      <td>-1</td>\n",
       "      <td>-2.55</td>\n",
       "    </tr>\n",
       "    <tr>\n",
       "      <th>1798</th>\n",
       "      <td>14777</td>\n",
       "      <td>4</td>\n",
       "      <td>2</td>\n",
       "      <td>-9</td>\n",
       "      <td>-17.45</td>\n",
       "    </tr>\n",
       "    <tr>\n",
       "      <th>1808</th>\n",
       "      <td>14792</td>\n",
       "      <td>63</td>\n",
       "      <td>2</td>\n",
       "      <td>0</td>\n",
       "      <td>-0.00</td>\n",
       "    </tr>\n",
       "    <tr>\n",
       "      <th>2235</th>\n",
       "      <td>15369</td>\n",
       "      <td>144</td>\n",
       "      <td>1</td>\n",
       "      <td>-1</td>\n",
       "      <td>-1592.49</td>\n",
       "    </tr>\n",
       "    <tr>\n",
       "      <th>2399</th>\n",
       "      <td>15590</td>\n",
       "      <td>289</td>\n",
       "      <td>1</td>\n",
       "      <td>-1</td>\n",
       "      <td>-30.19</td>\n",
       "    </tr>\n",
       "    <tr>\n",
       "      <th>2435</th>\n",
       "      <td>15638</td>\n",
       "      <td>301</td>\n",
       "      <td>1</td>\n",
       "      <td>-52</td>\n",
       "      <td>-94.00</td>\n",
       "    </tr>\n",
       "    <tr>\n",
       "      <th>2505</th>\n",
       "      <td>15728</td>\n",
       "      <td>49</td>\n",
       "      <td>1</td>\n",
       "      <td>-34</td>\n",
       "      <td>-134.80</td>\n",
       "    </tr>\n",
       "    <tr>\n",
       "      <th>2559</th>\n",
       "      <td>15802</td>\n",
       "      <td>142</td>\n",
       "      <td>3</td>\n",
       "      <td>-1</td>\n",
       "      <td>-451.42</td>\n",
       "    </tr>\n",
       "    <tr>\n",
       "      <th>2577</th>\n",
       "      <td>15823</td>\n",
       "      <td>337</td>\n",
       "      <td>2</td>\n",
       "      <td>-283</td>\n",
       "      <td>-840.76</td>\n",
       "    </tr>\n",
       "    <tr>\n",
       "      <th>2744</th>\n",
       "      <td>16061</td>\n",
       "      <td>269</td>\n",
       "      <td>1</td>\n",
       "      <td>-1</td>\n",
       "      <td>-29.95</td>\n",
       "    </tr>\n",
       "    <tr>\n",
       "      <th>2801</th>\n",
       "      <td>16138</td>\n",
       "      <td>368</td>\n",
       "      <td>1</td>\n",
       "      <td>-1</td>\n",
       "      <td>-7.95</td>\n",
       "    </tr>\n",
       "    <tr>\n",
       "      <th>2891</th>\n",
       "      <td>16252</td>\n",
       "      <td>366</td>\n",
       "      <td>1</td>\n",
       "      <td>-158</td>\n",
       "      <td>-295.09</td>\n",
       "    </tr>\n",
       "    <tr>\n",
       "      <th>2899</th>\n",
       "      <td>16262</td>\n",
       "      <td>360</td>\n",
       "      <td>1</td>\n",
       "      <td>-5</td>\n",
       "      <td>-31.65</td>\n",
       "    </tr>\n",
       "    <tr>\n",
       "      <th>3019</th>\n",
       "      <td>16428</td>\n",
       "      <td>81</td>\n",
       "      <td>1</td>\n",
       "      <td>-1</td>\n",
       "      <td>-2.95</td>\n",
       "    </tr>\n",
       "    <tr>\n",
       "      <th>3102</th>\n",
       "      <td>16546</td>\n",
       "      <td>290</td>\n",
       "      <td>3</td>\n",
       "      <td>-303</td>\n",
       "      <td>-95.93</td>\n",
       "    </tr>\n",
       "    <tr>\n",
       "      <th>3125</th>\n",
       "      <td>16579</td>\n",
       "      <td>365</td>\n",
       "      <td>1</td>\n",
       "      <td>-12</td>\n",
       "      <td>-30.60</td>\n",
       "    </tr>\n",
       "    <tr>\n",
       "      <th>3244</th>\n",
       "      <td>16742</td>\n",
       "      <td>46</td>\n",
       "      <td>2</td>\n",
       "      <td>-189</td>\n",
       "      <td>0.00</td>\n",
       "    </tr>\n",
       "    <tr>\n",
       "      <th>3348</th>\n",
       "      <td>16878</td>\n",
       "      <td>24</td>\n",
       "      <td>2</td>\n",
       "      <td>0</td>\n",
       "      <td>0.00</td>\n",
       "    </tr>\n",
       "    <tr>\n",
       "      <th>3434</th>\n",
       "      <td>16995</td>\n",
       "      <td>372</td>\n",
       "      <td>1</td>\n",
       "      <td>-1</td>\n",
       "      <td>-1.25</td>\n",
       "    </tr>\n",
       "    <tr>\n",
       "      <th>3486</th>\n",
       "      <td>17065</td>\n",
       "      <td>143</td>\n",
       "      <td>1</td>\n",
       "      <td>-1</td>\n",
       "      <td>-112.35</td>\n",
       "    </tr>\n",
       "    <tr>\n",
       "      <th>3649</th>\n",
       "      <td>17307</td>\n",
       "      <td>365</td>\n",
       "      <td>1</td>\n",
       "      <td>-144</td>\n",
       "      <td>-152.64</td>\n",
       "    </tr>\n",
       "    <tr>\n",
       "      <th>3755</th>\n",
       "      <td>17448</td>\n",
       "      <td>144</td>\n",
       "      <td>1</td>\n",
       "      <td>-1</td>\n",
       "      <td>-4287.63</td>\n",
       "    </tr>\n",
       "    <tr>\n",
       "      <th>3827</th>\n",
       "      <td>17547</td>\n",
       "      <td>372</td>\n",
       "      <td>1</td>\n",
       "      <td>-4</td>\n",
       "      <td>-11.80</td>\n",
       "    </tr>\n",
       "    <tr>\n",
       "      <th>3828</th>\n",
       "      <td>17548</td>\n",
       "      <td>217</td>\n",
       "      <td>3</td>\n",
       "      <td>-132</td>\n",
       "      <td>-141.48</td>\n",
       "    </tr>\n",
       "    <tr>\n",
       "      <th>3869</th>\n",
       "      <td>17603</td>\n",
       "      <td>50</td>\n",
       "      <td>5</td>\n",
       "      <td>-31</td>\n",
       "      <td>-1165.30</td>\n",
       "    </tr>\n",
       "    <tr>\n",
       "      <th>4028</th>\n",
       "      <td>17820</td>\n",
       "      <td>191</td>\n",
       "      <td>2</td>\n",
       "      <td>-5</td>\n",
       "      <td>-24.05</td>\n",
       "    </tr>\n",
       "    <tr>\n",
       "      <th>4255</th>\n",
       "      <td>18133</td>\n",
       "      <td>211</td>\n",
       "      <td>2</td>\n",
       "      <td>0</td>\n",
       "      <td>715.50</td>\n",
       "    </tr>\n",
       "    <tr>\n",
       "      <th>4260</th>\n",
       "      <td>18141</td>\n",
       "      <td>360</td>\n",
       "      <td>1</td>\n",
       "      <td>-12</td>\n",
       "      <td>-35.40</td>\n",
       "    </tr>\n",
       "    <tr>\n",
       "      <th>4349</th>\n",
       "      <td>18256</td>\n",
       "      <td>354</td>\n",
       "      <td>1</td>\n",
       "      <td>-70</td>\n",
       "      <td>-50.10</td>\n",
       "    </tr>\n",
       "    <tr>\n",
       "      <th>4357</th>\n",
       "      <td>18268</td>\n",
       "      <td>134</td>\n",
       "      <td>2</td>\n",
       "      <td>0</td>\n",
       "      <td>0.00</td>\n",
       "    </tr>\n",
       "    <tr>\n",
       "      <th>4362</th>\n",
       "      <td>18274</td>\n",
       "      <td>17</td>\n",
       "      <td>2</td>\n",
       "      <td>0</td>\n",
       "      <td>-0.00</td>\n",
       "    </tr>\n",
       "  </tbody>\n",
       "</table>\n",
       "</div>"
      ],
      "text/plain": [
       "      CustomerID  Day_Last_Purchase  Total_Transaction  \\\n",
       "0          12346                325                  2   \n",
       "89         12454                 53                  2   \n",
       "125        12503                337                  1   \n",
       "127        12505                301                  1   \n",
       "170        12558                  1                  2   \n",
       "212        12605                365                  1   \n",
       "213        12607                 58                  2   \n",
       "264        12666                359                  1   \n",
       "415        12870                366                  1   \n",
       "440        12908                 58                  4   \n",
       "467        12943                301                  1   \n",
       "619        13154                144                  1   \n",
       "774        13364                 66                  2   \n",
       "990        13672                301                  6   \n",
       "1003       13693                325                  2   \n",
       "1058       13762                204                  2   \n",
       "1105       13829                359                  1   \n",
       "1199       13958                372                  1   \n",
       "1317       14119                354                  1   \n",
       "1383       14213                371                  1   \n",
       "1641       14557                 64                  2   \n",
       "1687       14627                311                  1   \n",
       "1726       14679                371                  1   \n",
       "1798       14777                  4                  2   \n",
       "1808       14792                 63                  2   \n",
       "2235       15369                144                  1   \n",
       "2399       15590                289                  1   \n",
       "2435       15638                301                  1   \n",
       "2505       15728                 49                  1   \n",
       "2559       15802                142                  3   \n",
       "2577       15823                337                  2   \n",
       "2744       16061                269                  1   \n",
       "2801       16138                368                  1   \n",
       "2891       16252                366                  1   \n",
       "2899       16262                360                  1   \n",
       "3019       16428                 81                  1   \n",
       "3102       16546                290                  3   \n",
       "3125       16579                365                  1   \n",
       "3244       16742                 46                  2   \n",
       "3348       16878                 24                  2   \n",
       "3434       16995                372                  1   \n",
       "3486       17065                143                  1   \n",
       "3649       17307                365                  1   \n",
       "3755       17448                144                  1   \n",
       "3827       17547                372                  1   \n",
       "3828       17548                217                  3   \n",
       "3869       17603                 50                  5   \n",
       "4028       17820                191                  2   \n",
       "4255       18133                211                  2   \n",
       "4260       18141                360                  1   \n",
       "4349       18256                354                  1   \n",
       "4357       18268                134                  2   \n",
       "4362       18274                 17                  2   \n",
       "\n",
       "      Total_Purchase_Products  Total_Spend  \n",
       "0                           0         0.00  \n",
       "89                          0        -0.00  \n",
       "125                        -1     -1126.00  \n",
       "127                        -1        -4.50  \n",
       "170                         0         0.00  \n",
       "212                        -4        -7.50  \n",
       "213                         0         0.00  \n",
       "264                       -56      -227.44  \n",
       "415                        -2       -14.90  \n",
       "440                         0       246.00  \n",
       "467                        -1        -3.75  \n",
       "619                        -1      -611.86  \n",
       "774                         0        -0.00  \n",
       "990                        -1       -71.46  \n",
       "1003                       -6       -32.00  \n",
       "1058                        0         0.00  \n",
       "1105                      -12      -102.00  \n",
       "1199                      -23      -102.45  \n",
       "1317                       -2       -19.90  \n",
       "1383                     -244     -1192.20  \n",
       "1641                        0        -0.00  \n",
       "1687                       -5       -21.85  \n",
       "1726                       -1        -2.55  \n",
       "1798                       -9       -17.45  \n",
       "1808                        0        -0.00  \n",
       "2235                       -1     -1592.49  \n",
       "2399                       -1       -30.19  \n",
       "2435                      -52       -94.00  \n",
       "2505                      -34      -134.80  \n",
       "2559                       -1      -451.42  \n",
       "2577                     -283      -840.76  \n",
       "2744                       -1       -29.95  \n",
       "2801                       -1        -7.95  \n",
       "2891                     -158      -295.09  \n",
       "2899                       -5       -31.65  \n",
       "3019                       -1        -2.95  \n",
       "3102                     -303       -95.93  \n",
       "3125                      -12       -30.60  \n",
       "3244                     -189         0.00  \n",
       "3348                        0         0.00  \n",
       "3434                       -1        -1.25  \n",
       "3486                       -1      -112.35  \n",
       "3649                     -144      -152.64  \n",
       "3755                       -1     -4287.63  \n",
       "3827                       -4       -11.80  \n",
       "3828                     -132      -141.48  \n",
       "3869                      -31     -1165.30  \n",
       "4028                       -5       -24.05  \n",
       "4255                        0       715.50  \n",
       "4260                      -12       -35.40  \n",
       "4349                      -70       -50.10  \n",
       "4357                        0         0.00  \n",
       "4362                        0        -0.00  "
      ]
     },
     "execution_count": 164,
     "metadata": {},
     "output_type": "execute_result"
    }
   ],
   "source": [
    "zero_spend = customer_data[customer_data['Total_Purchase_Products'] <= 0]\n",
    "\n",
    "zero_spend"
   ]
  },
  {
   "cell_type": "code",
   "execution_count": 165,
   "metadata": {},
   "outputs": [],
   "source": [
    "#delete anomalous data (product purchased <0)\n",
    "customer_data = customer_data[customer_data['Total_Purchase_Products'] > 0]"
   ]
  },
  {
   "cell_type": "code",
   "execution_count": 166,
   "metadata": {},
   "outputs": [
    {
     "data": {
      "text/html": [
       "<div>\n",
       "<style scoped>\n",
       "    .dataframe tbody tr th:only-of-type {\n",
       "        vertical-align: middle;\n",
       "    }\n",
       "\n",
       "    .dataframe tbody tr th {\n",
       "        vertical-align: top;\n",
       "    }\n",
       "\n",
       "    .dataframe thead th {\n",
       "        text-align: right;\n",
       "    }\n",
       "</style>\n",
       "<table border=\"1\" class=\"dataframe\">\n",
       "  <thead>\n",
       "    <tr style=\"text-align: right;\">\n",
       "      <th></th>\n",
       "      <th>CustomerID</th>\n",
       "      <th>Day_Last_Purchase</th>\n",
       "      <th>Total_Transaction</th>\n",
       "      <th>Total_Purchase_Products</th>\n",
       "      <th>Total_Spend</th>\n",
       "    </tr>\n",
       "  </thead>\n",
       "  <tbody>\n",
       "    <tr>\n",
       "      <th>1543</th>\n",
       "      <td>14437</td>\n",
       "      <td>143</td>\n",
       "      <td>2</td>\n",
       "      <td>59</td>\n",
       "      <td>-43.40</td>\n",
       "    </tr>\n",
       "    <tr>\n",
       "      <th>3038</th>\n",
       "      <td>16454</td>\n",
       "      <td>44</td>\n",
       "      <td>3</td>\n",
       "      <td>2</td>\n",
       "      <td>-8.15</td>\n",
       "    </tr>\n",
       "    <tr>\n",
       "      <th>4209</th>\n",
       "      <td>18072</td>\n",
       "      <td>155</td>\n",
       "      <td>2</td>\n",
       "      <td>46</td>\n",
       "      <td>-0.00</td>\n",
       "    </tr>\n",
       "  </tbody>\n",
       "</table>\n",
       "</div>"
      ],
      "text/plain": [
       "      CustomerID  Day_Last_Purchase  Total_Transaction  \\\n",
       "1543       14437                143                  2   \n",
       "3038       16454                 44                  3   \n",
       "4209       18072                155                  2   \n",
       "\n",
       "      Total_Purchase_Products  Total_Spend  \n",
       "1543                       59       -43.40  \n",
       "3038                        2        -8.15  \n",
       "4209                       46        -0.00  "
      ]
     },
     "execution_count": 166,
     "metadata": {},
     "output_type": "execute_result"
    }
   ],
   "source": [
    "# check Total_Spend (Monetary) to see if the data have anomalies data\n",
    "customer_data[customer_data['Total_Spend'] < 0]"
   ]
  },
  {
   "cell_type": "code",
   "execution_count": 167,
   "metadata": {},
   "outputs": [
    {
     "data": {
      "text/plain": [
       "array([14437, 16454, 18072])"
      ]
     },
     "execution_count": 167,
     "metadata": {},
     "output_type": "execute_result"
    }
   ],
   "source": [
    "# Get Customer ID that have anomalies data in Total Spend\n",
    "anomalies_customer = customer_data[customer_data['Total_Spend'] < 0]\n",
    "anomalies_customer = anomalies_customer['CustomerID'].unique()\n",
    "\n",
    "anomalies_customer"
   ]
  },
  {
   "cell_type": "code",
   "execution_count": 168,
   "metadata": {},
   "outputs": [],
   "source": [
    "# filter data to delete anomalies data\n",
    "customer_data = customer_data[~customer_data['CustomerID'].isin(anomalies_customer)]\n",
    "df = df[~df['CustomerID'].isin(anomalies_customer)]"
   ]
  },
  {
   "cell_type": "code",
   "execution_count": 169,
   "metadata": {},
   "outputs": [
    {
     "data": {
      "text/html": [
       "<div>\n",
       "<style scoped>\n",
       "    .dataframe tbody tr th:only-of-type {\n",
       "        vertical-align: middle;\n",
       "    }\n",
       "\n",
       "    .dataframe tbody tr th {\n",
       "        vertical-align: top;\n",
       "    }\n",
       "\n",
       "    .dataframe thead th {\n",
       "        text-align: right;\n",
       "    }\n",
       "</style>\n",
       "<table border=\"1\" class=\"dataframe\">\n",
       "  <thead>\n",
       "    <tr style=\"text-align: right;\">\n",
       "      <th></th>\n",
       "      <th>CustomerID</th>\n",
       "      <th>Day_Last_Purchase</th>\n",
       "      <th>Total_Transaction</th>\n",
       "      <th>Total_Purchase_Products</th>\n",
       "      <th>Total_Spend</th>\n",
       "      <th>Average_Spend_Per_Product</th>\n",
       "      <th>Average_Spend_Per_Transactions</th>\n",
       "      <th>Unique_Product_Purchase</th>\n",
       "      <th>Total_Cancellation</th>\n",
       "      <th>Cancellation_Rate</th>\n",
       "    </tr>\n",
       "  </thead>\n",
       "  <tbody>\n",
       "    <tr>\n",
       "      <th>0</th>\n",
       "      <td>12347</td>\n",
       "      <td>2</td>\n",
       "      <td>7</td>\n",
       "      <td>2458</td>\n",
       "      <td>4310.00</td>\n",
       "      <td>1.75</td>\n",
       "      <td>615.71</td>\n",
       "      <td>103</td>\n",
       "      <td>0.00</td>\n",
       "      <td>0.00</td>\n",
       "    </tr>\n",
       "    <tr>\n",
       "      <th>1</th>\n",
       "      <td>12348</td>\n",
       "      <td>75</td>\n",
       "      <td>4</td>\n",
       "      <td>2341</td>\n",
       "      <td>1797.24</td>\n",
       "      <td>0.77</td>\n",
       "      <td>449.31</td>\n",
       "      <td>22</td>\n",
       "      <td>0.00</td>\n",
       "      <td>0.00</td>\n",
       "    </tr>\n",
       "    <tr>\n",
       "      <th>2</th>\n",
       "      <td>12349</td>\n",
       "      <td>18</td>\n",
       "      <td>1</td>\n",
       "      <td>631</td>\n",
       "      <td>1757.55</td>\n",
       "      <td>2.79</td>\n",
       "      <td>1757.55</td>\n",
       "      <td>73</td>\n",
       "      <td>0.00</td>\n",
       "      <td>0.00</td>\n",
       "    </tr>\n",
       "    <tr>\n",
       "      <th>3</th>\n",
       "      <td>12350</td>\n",
       "      <td>310</td>\n",
       "      <td>1</td>\n",
       "      <td>197</td>\n",
       "      <td>334.40</td>\n",
       "      <td>1.70</td>\n",
       "      <td>334.40</td>\n",
       "      <td>17</td>\n",
       "      <td>0.00</td>\n",
       "      <td>0.00</td>\n",
       "    </tr>\n",
       "    <tr>\n",
       "      <th>4</th>\n",
       "      <td>12352</td>\n",
       "      <td>36</td>\n",
       "      <td>11</td>\n",
       "      <td>470</td>\n",
       "      <td>1545.41</td>\n",
       "      <td>3.29</td>\n",
       "      <td>140.49</td>\n",
       "      <td>59</td>\n",
       "      <td>3.00</td>\n",
       "      <td>0.27</td>\n",
       "    </tr>\n",
       "  </tbody>\n",
       "</table>\n",
       "</div>"
      ],
      "text/plain": [
       "   CustomerID  Day_Last_Purchase  Total_Transaction  Total_Purchase_Products  \\\n",
       "0       12347                  2                  7                     2458   \n",
       "1       12348                 75                  4                     2341   \n",
       "2       12349                 18                  1                      631   \n",
       "3       12350                310                  1                      197   \n",
       "4       12352                 36                 11                      470   \n",
       "\n",
       "   Total_Spend  Average_Spend_Per_Product  Average_Spend_Per_Transactions  \\\n",
       "0      4310.00                       1.75                          615.71   \n",
       "1      1797.24                       0.77                          449.31   \n",
       "2      1757.55                       2.79                         1757.55   \n",
       "3       334.40                       1.70                          334.40   \n",
       "4      1545.41                       3.29                          140.49   \n",
       "\n",
       "   Unique_Product_Purchase  Total_Cancellation  Cancellation_Rate  \n",
       "0                      103                0.00               0.00  \n",
       "1                       22                0.00               0.00  \n",
       "2                       73                0.00               0.00  \n",
       "3                       17                0.00               0.00  \n",
       "4                       59                3.00               0.27  "
      ]
     },
     "execution_count": 169,
     "metadata": {},
     "output_type": "execute_result"
    }
   ],
   "source": [
    "# add new feature\n",
    "customer_data['Average_Spend_Per_Product'] = customer_data['Total_Spend'] / customer_data['Total_Purchase_Products']\n",
    "customer_data['Average_Spend_Per_Product'] = customer_data['Average_Spend_Per_Product'].fillna(0)\n",
    "\n",
    "customer_data['Average_Spend_Per_Transactions'] = customer_data['Total_Spend'] / customer_data['Total_Transaction']\n",
    "\n",
    "# Add Unique Product Purchase\n",
    "product_purchase = df.groupby('CustomerID')['StockCode'].nunique().reset_index()\n",
    "product_purchase = product_purchase.rename(columns= {'StockCode' : 'Unique_Product_Purchase'})\n",
    "\n",
    "#Merge Data\n",
    "customer_data = pd.merge(customer_data, product_purchase, on = 'CustomerID', how = 'left')\n",
    "\n",
    "#Add Cancellation Frequency\n",
    "canceled_transactions = df[df['Status'] == 'Canceled']\n",
    "canceled_frequency = canceled_transactions.groupby('CustomerID')['InvoiceNo'].nunique().reset_index()\n",
    "canceled_frequency = canceled_frequency.rename(columns= {'InvoiceNo' : 'Total_Cancellation'})\n",
    "canceled_frequency = canceled_frequency.fillna(0)\n",
    "\n",
    "#Merge Data\n",
    "customer_data = pd.merge(customer_data, canceled_frequency, on = 'CustomerID', how = 'left')\n",
    "\n",
    "customer_data['Total_Cancellation'] = customer_data['Total_Cancellation'].fillna(0)\n",
    "customer_data['Cancellation_Rate'] = customer_data['Total_Cancellation'] / customer_data['Total_Transaction']\n",
    "\n",
    "customer_data.head()"
   ]
  },
  {
   "cell_type": "code",
   "execution_count": 170,
   "metadata": {},
   "outputs": [],
   "source": [
    "target_cols = ['Total_Transaction', 'Total_Purchase_Products', 'Total_Spend', 'Unique_Product_Purchase']\n",
    "\n",
    "def top_5_customer(data, target_cols):\n",
    "\n",
    "    results = {}\n",
    "\n",
    "    for col in target_cols:\n",
    "        table = data.nlargest(5, col)[['CustomerID', col]]\n",
    "        results[col] = table\n",
    "\n",
    "    return results\n",
    "\n",
    "top_5 = top_5_customer(customer_data, target_cols)\n",
    "\n",
    "top_transaction = top_5['Total_Transaction']\n",
    "top_products = top_5['Total_Purchase_Products']\n",
    "top_spend = top_5['Total_Spend']\n",
    "top_unique_products = top_5['Unique_Product_Purchase']"
   ]
  },
  {
   "cell_type": "code",
   "execution_count": 171,
   "metadata": {},
   "outputs": [
    {
     "data": {
      "image/png": "[encoded data removed]",
      "text/plain": [
       "<Figure size 2000x1000 with 4 Axes>"
      ]
     },
     "metadata": {},
     "output_type": "display_data"
    }
   ],
   "source": [
    "def customer_bar_chart(data_dict, target_cols):\n",
    "\n",
    "    plt.figure(figsize=(20,10))\n",
    "\n",
    "    for i, col in enumerate(target_cols, 1):\n",
    "        plt.subplot(2,2,i)\n",
    "        df = data_dict[col]\n",
    "        df['CustomerID'] = pd.Categorical(df['CustomerID'],\n",
    "                                          categories=df['CustomerID'],\n",
    "                                          ordered=True)\n",
    "        \n",
    "        sns.barplot(data = df,\n",
    "                    x = 'CustomerID',\n",
    "                    y = col,\n",
    "                    hue = 'CustomerID',\n",
    "                    palette= 'pastel')\n",
    "        \n",
    "        plt.title(f'The Highest {col}', fontsize = 15, fontweight = 'bold')\n",
    "        plt.xlabel('Customer ID', fontsize = 12)\n",
    "        plt.ylabel(col, fontsize = 12)\n",
    "        plt.legend(title='CustomerID', bbox_to_anchor=(1.05, 1), loc='upper left')\n",
    "\n",
    "    plt.suptitle('Top 5 Customer', fontsize = 20, fontweight = 'bold')\n",
    "    plt.tight_layout()\n",
    "    plt.savefig('Top 5 Customer', dpi = 300)\n",
    "    plt.show()\n",
    "\n",
    "customer_bar_chart(top_5, target_cols)\n"
   ]
  },
  {
   "cell_type": "markdown",
   "metadata": {},
   "source": [
    "# Transactions"
   ]
  },
  {
   "cell_type": "code",
   "execution_count": 172,
   "metadata": {},
   "outputs": [
    {
     "data": {
      "image/png": "[encoded data removed]",
      "text/plain": [
       "<Figure size 800x600 with 1 Axes>"
      ]
     },
     "metadata": {},
     "output_type": "display_data"
    }
   ],
   "source": [
    "transactions = df.groupby('Status').size().reset_index(name= 'Total')\n",
    "\n",
    "explode = (0.03, 0.03)\n",
    "colors = ['#1f77b4', '#ff7f0e']\n",
    "\n",
    "plt.figure(figsize=(8,6))\n",
    "plt.pie(transactions['Total'],\n",
    "        labels= transactions['Status'],\n",
    "        autopct= '%1.1f%%',\n",
    "        explode= explode,\n",
    "        colors= colors,\n",
    "        shadow= True)\n",
    "\n",
    "plt.title('Transaction Status Distribution', fontsize = 17, fontweight = 'bold')\n",
    "\n",
    "plt.tight_layout()\n",
    "plt.show()"
   ]
  },
  {
   "cell_type": "code",
   "execution_count": 173,
   "metadata": {},
   "outputs": [
    {
     "data": {
      "image/png": "[encoded data removed]",
      "text/plain": [
       "<Figure size 1800x800 with 2 Axes>"
      ]
     },
     "metadata": {},
     "output_type": "display_data"
    }
   ],
   "source": [
    "canceled_transactions = df[df['Status'] == 'Canceled']\n",
    "\n",
    "canceled_transactions = canceled_transactions.copy()\n",
    "canceled_transactions.sort_values(by = 'YearMonth', ascending= True, inplace= True)\n",
    "\n",
    "canceled_transactions = canceled_transactions.groupby('YearMonth').size().reset_index(name = 'Total_Canceled_Transactions')\n",
    "canceled_transactions['YearMonth'] = canceled_transactions['YearMonth'].dt.to_timestamp()\n",
    "canceled_transactions['Quarter'] = canceled_transactions['YearMonth'].dt.to_period('Q').astype(str)\n",
    "\n",
    "plt.figure(figsize=(18,8))\n",
    "\n",
    "plt.subplot(1,2,1)\n",
    "sns.lineplot(data = canceled_transactions,\n",
    "             x = 'Quarter',\n",
    "             y = 'Total_Canceled_Transactions',\n",
    "             marker = 'o',\n",
    "             color = 'red',\n",
    "            errorbar = None)\n",
    "\n",
    "plt.title('Quarterly', fontsize = 16, fontweight = 'bold')\n",
    "plt.xlabel('Quarter', fontsize = 13, fontweight = 'bold')\n",
    "plt.ylabel('Total Transactions', fontsize = 13, fontweight = 'bold')\n",
    "\n",
    "plt.subplot(1,2,2)\n",
    "sns.lineplot(data = canceled_transactions,\n",
    "             x = 'YearMonth',\n",
    "             y = 'Total_Canceled_Transactions',\n",
    "             marker = 'o',\n",
    "             color = 'red',\n",
    "            errorbar = None)\n",
    "\n",
    "plt.title('Monthly', fontsize = 16, fontweight = 'bold')\n",
    "plt.xlabel('Month', fontsize = 13, fontweight = 'bold')\n",
    "plt.ylabel('Total Transactions', fontsize = 13, fontweight = 'bold')\n",
    "plt.suptitle('Canceled Transaction Trends', fontsize = 20, fontweight = 'bold')\n",
    "\n",
    "plt.tight_layout()\n",
    "plt.show()"
   ]
  },
  {
   "cell_type": "code",
   "execution_count": 174,
   "metadata": {},
   "outputs": [
    {
     "data": {
      "image/png": "[encoded data removed]",
      "text/plain": [
       "<Figure size 1800x600 with 2 Axes>"
      ]
     },
     "metadata": {},
     "output_type": "display_data"
    }
   ],
   "source": [
    "total_price = df.groupby('Year')['TotalSpend'].sum()\n",
    "average_price = df.groupby('Year')['TotalSpend'].mean()\n",
    "\n",
    "plt.figure(figsize=(18,6))\n",
    "\n",
    "plt.subplot(1,2,1)\n",
    "plt.pie(total_price.values,\n",
    "        labels=total_price.index,\n",
    "        autopct='%1.1f%%',\n",
    "        startangle=90,\n",
    "        colors=['#1f77b4', '#ff7f0e'],\n",
    "        shadow=True,\n",
    "        explode=explode\n",
    "        )\n",
    "plt.title('Total Revenue', fontsize=14)\n",
    "\n",
    "plt.subplot(1,2,2)\n",
    "plt.pie(average_price.values,\n",
    "        labels=average_price.index,\n",
    "        autopct='%1.1f%%',\n",
    "        startangle=90,\n",
    "        colors=['#1f77b4', '#ff7f0e'],\n",
    "        shadow=True,\n",
    "        explode=explode\n",
    "        )\n",
    "plt.title('Average Revenue', fontsize=14)\n",
    "\n",
    "plt.suptitle('Revenue Overview: Total vs Average (2010-2011)', fontsize=16, fontweight='bold')\n",
    "\n",
    "plt.tight_layout()\n",
    "plt.show()\n"
   ]
  },
  {
   "cell_type": "code",
   "execution_count": 175,
   "metadata": {},
   "outputs": [
    {
     "data": {
      "image/png": "[encoded data removed]",
      "text/plain": [
       "<Figure size 1200x600 with 1 Axes>"
      ]
     },
     "metadata": {},
     "output_type": "display_data"
    }
   ],
   "source": [
    "monthly_revenue = df.groupby('YearMonth')['TotalSpend'].sum()\n",
    "\n",
    "plt.figure(figsize=(12,6))\n",
    "\n",
    "sns.lineplot(x=monthly_revenue.index.astype(str), \n",
    "             y=monthly_revenue.values, \n",
    "             marker=\"o\",\n",
    "             errorbar = None)\n",
    "\n",
    "plt.title(\"Monthly Revenue Trend\", fontsize = 14, fontweight = 'bold')\n",
    "plt.xlabel(\"Month\")\n",
    "plt.ylabel(\"Total Revenue\")\n",
    "\n",
    "plt.tight_layout()\n",
    "plt.savefig('Monthly Revenue Trend', dpi = 300)\n",
    "plt.show()"
   ]
  },
  {
   "cell_type": "code",
   "execution_count": 176,
   "metadata": {},
   "outputs": [
    {
     "data": {
      "image/png": "[encoded data removed]",
      "text/plain": [
       "<Figure size 1200x600 with 1 Axes>"
      ]
     },
     "metadata": {},
     "output_type": "display_data"
    }
   ],
   "source": [
    "top_country = df.groupby('Country')['TotalSpend'].sum().sort_values(ascending= False).head(5)\n",
    "\n",
    "plt.figure(figsize=(12,6))\n",
    "\n",
    "sns.barplot(x= top_country.index, \n",
    "            y= top_country.values, \n",
    "            hue = top_country.index,\n",
    "            palette= 'pastel',\n",
    "            errorbar = None)\n",
    "\n",
    "plt.title(\"Top Five Country by Total Spend\", fontsize = 14, fontweight = 'bold')\n",
    "plt.xlabel(\"Country\")\n",
    "plt.ylabel(\"Total Spend\")\n",
    "\n",
    "plt.tight_layout()\n",
    "plt.savefig('Top Five Country by Total Spend', dpi = 300)\n",
    "plt.show()"
   ]
  },
  {
   "cell_type": "code",
   "execution_count": 177,
   "metadata": {},
   "outputs": [
    {
     "data": {
      "image/png": "[encoded data removed]",
      "text/plain": [
       "<Figure size 1200x600 with 1 Axes>"
      ]
     },
     "metadata": {},
     "output_type": "display_data"
    }
   ],
   "source": [
    "description_quantity = df.groupby('Description')['Quantity'].sum().sort_values(ascending=False).head(5)\n",
    "\n",
    "plt.figure(figsize=(12,6))\n",
    "\n",
    "sns.barplot(y = description_quantity.index,\n",
    "            x = description_quantity.values,\n",
    "            hue = description_quantity.index,\n",
    "            palette= 'pastel',\n",
    "            errorbar= None)\n",
    "\n",
    "plt.title('Top Five Description Product With the Highest Purchase Order', fontsize = 14, fontweight = 'bold')\n",
    "plt.xlabel('Description Product', fontsize = 12)\n",
    "plt.xticks(fontsize = 9)\n",
    "plt.ylabel('Total Quantity', fontsize = 12)\n",
    "plt.yticks(fontsize = 9)\n",
    "\n",
    "plt.tight_layout()\n",
    "plt.show()"
   ]
  },
  {
   "cell_type": "code",
   "execution_count": 178,
   "metadata": {},
   "outputs": [
    {
     "data": {
      "application/vnd.plotly.v1+json": {
       "config": {
        "plotlyServerURL": "https://plot.ly"
       },
       "data": [
        {
         "coloraxis": "coloraxis",
         "geo": "geo",
         "hovertemplate": "Country=%{location}<br>Total=%{z}<extra></extra>",
         "locationmode": "country names",
         "locations": [
          "Australia",
          "Austria",
          "Bahrain",
          "Belgium",
          "Brazil",
          "Canada",
          "Channel Islands",
          "Cyprus",
          "Czech Republic",
          "Denmark",
          "EIRE",
          "European Community",
          "Finland",
          "France",
          "Germany",
          "Greece",
          "Iceland",
          "Israel",
          "Italy",
          "Japan",
          "Lebanon",
          "Lithuania",
          "Malta",
          "Netherlands",
          "Norway",
          "Poland",
          "Portugal",
          "RSA",
          "Saudi Arabia",
          "Singapore",
          "Spain",
          "Sweden",
          "Switzerland",
          "USA",
          "United Arab Emirates",
          "United Kingdom",
          "Unspecified"
         ],
         "name": "",
         "type": "choropleth",
         "z": {
          "bdata": "5wQAAJEBAAARAAAAFQgAACAAAACXAAAA9QIAAGMCAAAeAAAAhQEAADEdAAA9AAAAtwIAABohAAAGJQAAkgAAALYAAAD3AAAAIwMAAGYBAAAtAAAAIwAAAH8AAAA/CQAAPQQAAFUBAAC/BQAAOQAAAAoAAADlAAAA3wkAAM0BAABUBwAAIwEAAEQAAAAvcQUA8QAAAA==",
          "dtype": "i4"
         }
        }
       ],
       "layout": {
        "coloraxis": {
         "colorbar": {
          "title": {
           "text": "Total"
          }
         },
         "colorscale": [
          [
           0,
           "#0d0887"
          ],
          [
           0.1111111111111111,
           "#46039f"
          ],
          [
           0.2222222222222222,
           "#7201a8"
          ],
          [
           0.3333333333333333,
           "#9c179e"
          ],
          [
           0.4444444444444444,
           "#bd3786"
          ],
          [
           0.5555555555555556,
           "#d8576b"
          ],
          [
           0.6666666666666666,
           "#ed7953"
          ],
          [
           0.7777777777777778,
           "#fb9f3a"
          ],
          [
           0.8888888888888888,
           "#fdca26"
          ],
          [
           1,
           "#f0f921"
          ]
         ]
        },
        "geo": {
         "center": {},
         "countrycolor": "gray",
         "domain": {
          "x": [
           0,
           1
          ],
          "y": [
           0,
           1
          ]
         },
         "oceancolor": "lightblue",
         "showcountries": true,
         "showland": true,
         "showocean": true
        },
        "height": 600,
        "legend": {
         "tracegroupgap": 0
        },
        "template": {
         "data": {
          "bar": [
           {
            "error_x": {
             "color": "#2a3f5f"
            },
            "error_y": {
             "color": "#2a3f5f"
            },
            "marker": {
             "line": {
              "color": "#E5ECF6",
              "width": 0.5
             },
             "pattern": {
              "fillmode": "overlay",
              "size": 10,
              "solidity": 0.2
             }
            },
            "type": "bar"
           }
          ],
          "barpolar": [
           {
            "marker": {
             "line": {
              "color": "#E5ECF6",
              "width": 0.5
             },
             "pattern": {
              "fillmode": "overlay",
              "size": 10,
              "solidity": 0.2
             }
            },
            "type": "barpolar"
           }
          ],
          "carpet": [
           {
            "aaxis": {
             "endlinecolor": "#2a3f5f",
             "gridcolor": "white",
             "linecolor": "white",
             "minorgridcolor": "white",
             "startlinecolor": "#2a3f5f"
            },
            "baxis": {
             "endlinecolor": "#2a3f5f",
             "gridcolor": "white",
             "linecolor": "white",
             "minorgridcolor": "white",
             "startlinecolor": "#2a3f5f"
            },
            "type": "carpet"
           }
          ],
          "choropleth": [
           {
            "colorbar": {
             "outlinewidth": 0,
             "ticks": ""
            },
            "type": "choropleth"
           }
          ],
          "contour": [
           {
            "colorbar": {
             "outlinewidth": 0,
             "ticks": ""
            },
            "colorscale": [
             [
              0,
              "#0d0887"
             ],
             [
              0.1111111111111111,
              "#46039f"
             ],
             [
              0.2222222222222222,
              "#7201a8"
             ],
             [
              0.3333333333333333,
              "#9c179e"
             ],
             [
              0.4444444444444444,
              "#bd3786"
             ],
             [
              0.5555555555555556,
              "#d8576b"
             ],
             [
              0.6666666666666666,
              "#ed7953"
             ],
             [
              0.7777777777777778,
              "#fb9f3a"
             ],
             [
              0.8888888888888888,
              "#fdca26"
             ],
             [
              1,
              "#f0f921"
             ]
            ],
            "type": "contour"
           }
          ],
          "contourcarpet": [
           {
            "colorbar": {
             "outlinewidth": 0,
             "ticks": ""
            },
            "type": "contourcarpet"
           }
          ],
          "heatmap": [
           {
            "colorbar": {
             "outlinewidth": 0,
             "ticks": ""
            },
            "colorscale": [
             [
              0,
              "#0d0887"
             ],
             [
              0.1111111111111111,
              "#46039f"
             ],
             [
              0.2222222222222222,
              "#7201a8"
             ],
             [
              0.3333333333333333,
              "#9c179e"
             ],
             [
              0.4444444444444444,
              "#bd3786"
             ],
             [
              0.5555555555555556,
              "#d8576b"
             ],
             [
              0.6666666666666666,
              "#ed7953"
             ],
             [
              0.7777777777777778,
              "#fb9f3a"
             ],
             [
              0.8888888888888888,
              "#fdca26"
             ],
             [
              1,
              "#f0f921"
             ]
            ],
            "type": "heatmap"
           }
          ],
          "histogram": [
           {
            "marker": {
             "pattern": {
              "fillmode": "overlay",
              "size": 10,
              "solidity": 0.2
             }
            },
            "type": "histogram"
           }
          ],
          "histogram2d": [
           {
            "colorbar": {
             "outlinewidth": 0,
             "ticks": ""
            },
            "colorscale": [
             [
              0,
              "#0d0887"
             ],
             [
              0.1111111111111111,
              "#46039f"
             ],
             [
              0.2222222222222222,
              "#7201a8"
             ],
             [
              0.3333333333333333,
              "#9c179e"
             ],
             [
              0.4444444444444444,
              "#bd3786"
             ],
             [
              0.5555555555555556,
              "#d8576b"
             ],
             [
              0.6666666666666666,
              "#ed7953"
             ],
             [
              0.7777777777777778,
              "#fb9f3a"
             ],
             [
              0.8888888888888888,
              "#fdca26"
             ],
             [
              1,
              "#f0f921"
             ]
            ],
            "type": "histogram2d"
           }
          ],
          "histogram2dcontour": [
           {
            "colorbar": {
             "outlinewidth": 0,
             "ticks": ""
            },
            "colorscale": [
             [
              0,
              "#0d0887"
             ],
             [
              0.1111111111111111,
              "#46039f"
             ],
             [
              0.2222222222222222,
              "#7201a8"
             ],
             [
              0.3333333333333333,
              "#9c179e"
             ],
             [
              0.4444444444444444,
              "#bd3786"
             ],
             [
              0.5555555555555556,
              "#d8576b"
             ],
             [
              0.6666666666666666,
              "#ed7953"
             ],
             [
              0.7777777777777778,
              "#fb9f3a"
             ],
             [
              0.8888888888888888,
              "#fdca26"
             ],
             [
              1,
              "#f0f921"
             ]
            ],
            "type": "histogram2dcontour"
           }
          ],
          "mesh3d": [
           {
            "colorbar": {
             "outlinewidth": 0,
             "ticks": ""
            },
            "type": "mesh3d"
           }
          ],
          "parcoords": [
           {
            "line": {
             "colorbar": {
              "outlinewidth": 0,
              "ticks": ""
             }
            },
            "type": "parcoords"
           }
          ],
          "pie": [
           {
            "automargin": true,
            "type": "pie"
           }
          ],
          "scatter": [
           {
            "fillpattern": {
             "fillmode": "overlay",
             "size": 10,
             "solidity": 0.2
            },
            "type": "scatter"
           }
          ],
          "scatter3d": [
           {
            "line": {
             "colorbar": {
              "outlinewidth": 0,
              "ticks": ""
             }
            },
            "marker": {
             "colorbar": {
              "outlinewidth": 0,
              "ticks": ""
             }
            },
            "type": "scatter3d"
           }
          ],
          "scattercarpet": [
           {
            "marker": {
             "colorbar": {
              "outlinewidth": 0,
              "ticks": ""
             }
            },
            "type": "scattercarpet"
           }
          ],
          "scattergeo": [
           {
            "marker": {
             "colorbar": {
              "outlinewidth": 0,
              "ticks": ""
             }
            },
            "type": "scattergeo"
           }
          ],
          "scattergl": [
           {
            "marker": {
             "colorbar": {
              "outlinewidth": 0,
              "ticks": ""
             }
            },
            "type": "scattergl"
           }
          ],
          "scattermap": [
           {
            "marker": {
             "colorbar": {
              "outlinewidth": 0,
              "ticks": ""
             }
            },
            "type": "scattermap"
           }
          ],
          "scattermapbox": [
           {
            "marker": {
             "colorbar": {
              "outlinewidth": 0,
              "ticks": ""
             }
            },
            "type": "scattermapbox"
           }
          ],
          "scatterpolar": [
           {
            "marker": {
             "colorbar": {
              "outlinewidth": 0,
              "ticks": ""
             }
            },
            "type": "scatterpolar"
           }
          ],
          "scatterpolargl": [
           {
            "marker": {
             "colorbar": {
              "outlinewidth": 0,
              "ticks": ""
             }
            },
            "type": "scatterpolargl"
           }
          ],
          "scatterternary": [
           {
            "marker": {
             "colorbar": {
              "outlinewidth": 0,
              "ticks": ""
             }
            },
            "type": "scatterternary"
           }
          ],
          "surface": [
           {
            "colorbar": {
             "outlinewidth": 0,
             "ticks": ""
            },
            "colorscale": [
             [
              0,
              "#0d0887"
             ],
             [
              0.1111111111111111,
              "#46039f"
             ],
             [
              0.2222222222222222,
              "#7201a8"
             ],
             [
              0.3333333333333333,
              "#9c179e"
             ],
             [
              0.4444444444444444,
              "#bd3786"
             ],
             [
              0.5555555555555556,
              "#d8576b"
             ],
             [
              0.6666666666666666,
              "#ed7953"
             ],
             [
              0.7777777777777778,
              "#fb9f3a"
             ],
             [
              0.8888888888888888,
              "#fdca26"
             ],
             [
              1,
              "#f0f921"
             ]
            ],
            "type": "surface"
           }
          ],
          "table": [
           {
            "cells": {
             "fill": {
              "color": "#EBF0F8"
             },
             "line": {
              "color": "white"
             }
            },
            "header": {
             "fill": {
              "color": "#C8D4E3"
             },
             "line": {
              "color": "white"
             }
            },
            "type": "table"
           }
          ]
         },
         "layout": {
          "annotationdefaults": {
           "arrowcolor": "#2a3f5f",
           "arrowhead": 0,
           "arrowwidth": 1
          },
          "autotypenumbers": "strict",
          "coloraxis": {
           "colorbar": {
            "outlinewidth": 0,
            "ticks": ""
           }
          },
          "colorscale": {
           "diverging": [
            [
             0,
             "#8e0152"
            ],
            [
             0.1,
             "#c51b7d"
            ],
            [
             0.2,
             "#de77ae"
            ],
            [
             0.3,
             "#f1b6da"
            ],
            [
             0.4,
             "#fde0ef"
            ],
            [
             0.5,
             "#f7f7f7"
            ],
            [
             0.6,
             "#e6f5d0"
            ],
            [
             0.7,
             "#b8e186"
            ],
            [
             0.8,
             "#7fbc41"
            ],
            [
             0.9,
             "#4d9221"
            ],
            [
             1,
             "#276419"
            ]
           ],
           "sequential": [
            [
             0,
             "#0d0887"
            ],
            [
             0.1111111111111111,
             "#46039f"
            ],
            [
             0.2222222222222222,
             "#7201a8"
            ],
            [
             0.3333333333333333,
             "#9c179e"
            ],
            [
             0.4444444444444444,
             "#bd3786"
            ],
            [
             0.5555555555555556,
             "#d8576b"
            ],
            [
             0.6666666666666666,
             "#ed7953"
            ],
            [
             0.7777777777777778,
             "#fb9f3a"
            ],
            [
             0.8888888888888888,
             "#fdca26"
            ],
            [
             1,
             "#f0f921"
            ]
           ],
           "sequentialminus": [
            [
             0,
             "#0d0887"
            ],
            [
             0.1111111111111111,
             "#46039f"
            ],
            [
             0.2222222222222222,
             "#7201a8"
            ],
            [
             0.3333333333333333,
             "#9c179e"
            ],
            [
             0.4444444444444444,
             "#bd3786"
            ],
            [
             0.5555555555555556,
             "#d8576b"
            ],
            [
             0.6666666666666666,
             "#ed7953"
            ],
            [
             0.7777777777777778,
             "#fb9f3a"
            ],
            [
             0.8888888888888888,
             "#fdca26"
            ],
            [
             1,
             "#f0f921"
            ]
           ]
          },
          "colorway": [
           "#636efa",
           "#EF553B",
           "#00cc96",
           "#ab63fa",
           "#FFA15A",
           "#19d3f3",
           "#FF6692",
           "#B6E880",
           "#FF97FF",
           "#FECB52"
          ],
          "font": {
           "color": "#2a3f5f"
          },
          "geo": {
           "bgcolor": "white",
           "lakecolor": "white",
           "landcolor": "#E5ECF6",
           "showlakes": true,
           "showland": true,
           "subunitcolor": "white"
          },
          "hoverlabel": {
           "align": "left"
          },
          "hovermode": "closest",
          "mapbox": {
           "style": "light"
          },
          "paper_bgcolor": "white",
          "plot_bgcolor": "#E5ECF6",
          "polar": {
           "angularaxis": {
            "gridcolor": "white",
            "linecolor": "white",
            "ticks": ""
           },
           "bgcolor": "#E5ECF6",
           "radialaxis": {
            "gridcolor": "white",
            "linecolor": "white",
            "ticks": ""
           }
          },
          "scene": {
           "xaxis": {
            "backgroundcolor": "#E5ECF6",
            "gridcolor": "white",
            "gridwidth": 2,
            "linecolor": "white",
            "showbackground": true,
            "ticks": "",
            "zerolinecolor": "white"
           },
           "yaxis": {
            "backgroundcolor": "#E5ECF6",
            "gridcolor": "white",
            "gridwidth": 2,
            "linecolor": "white",
            "showbackground": true,
            "ticks": "",
            "zerolinecolor": "white"
           },
           "zaxis": {
            "backgroundcolor": "#E5ECF6",
            "gridcolor": "white",
            "gridwidth": 2,
            "linecolor": "white",
            "showbackground": true,
            "ticks": "",
            "zerolinecolor": "white"
           }
          },
          "shapedefaults": {
           "line": {
            "color": "#2a3f5f"
           }
          },
          "ternary": {
           "aaxis": {
            "gridcolor": "white",
            "linecolor": "white",
            "ticks": ""
           },
           "baxis": {
            "gridcolor": "white",
            "linecolor": "white",
            "ticks": ""
           },
           "bgcolor": "#E5ECF6",
           "caxis": {
            "gridcolor": "white",
            "linecolor": "white",
            "ticks": ""
           }
          },
          "title": {
           "x": 0.05
          },
          "xaxis": {
           "automargin": true,
           "gridcolor": "white",
           "linecolor": "white",
           "ticks": "",
           "title": {
            "standoff": 15
           },
           "zerolinecolor": "white",
           "zerolinewidth": 2
          },
          "yaxis": {
           "automargin": true,
           "gridcolor": "white",
           "linecolor": "white",
           "ticks": "",
           "title": {
            "standoff": 15
           },
           "zerolinecolor": "white",
           "zerolinewidth": 2
          }
         }
        },
        "title": {
         "text": "Transaction Distribution by Country"
        },
        "width": 1000
       }
      }
     },
     "metadata": {},
     "output_type": "display_data"
    }
   ],
   "source": [
    "country = df.groupby('Country').size().reset_index(name = 'Total')\n",
    "\n",
    "fig = px.choropleth(\n",
    "    country,                    \n",
    "    locations='Country',        \n",
    "    locationmode='country names', \n",
    "    color='Total',              \n",
    "    title='Transaction Distribution by Country',\n",
    "    color_continuous_scale='Plasma'  \n",
    ")\n",
    "\n",
    "fig.update_layout(\n",
    "    geo=dict(\n",
    "        showland=True,\n",
    "        showcountries=True,\n",
    "        showocean=True,\n",
    "        oceancolor='lightblue',\n",
    "        countrycolor='gray'\n",
    "    ),\n",
    "    height=600,  \n",
    "    width=1000  \n",
    ")\n",
    "\n",
    "# Tampilkan peta\n",
    "fig.show()"
   ]
  },
  {
   "cell_type": "markdown",
   "metadata": {},
   "source": [
    "# Scale data to apply K-Means for clustering\n",
    "\n",
    "for clustering customers, I prefer to clustering based on RFM (Recency (Day_Last_Purchase), Frequency (Total_Transaction), and Monetary (Total_Spend))"
   ]
  },
  {
   "cell_type": "code",
   "execution_count": 179,
   "metadata": {},
   "outputs": [
    {
     "data": {
      "text/html": [
       "<div>\n",
       "<style scoped>\n",
       "    .dataframe tbody tr th:only-of-type {\n",
       "        vertical-align: middle;\n",
       "    }\n",
       "\n",
       "    .dataframe tbody tr th {\n",
       "        vertical-align: top;\n",
       "    }\n",
       "\n",
       "    .dataframe thead th {\n",
       "        text-align: right;\n",
       "    }\n",
       "</style>\n",
       "<table border=\"1\" class=\"dataframe\">\n",
       "  <thead>\n",
       "    <tr style=\"text-align: right;\">\n",
       "      <th></th>\n",
       "      <th>Day_Last_Purchase</th>\n",
       "      <th>Total_Transaction</th>\n",
       "      <th>Total_Spend</th>\n",
       "    </tr>\n",
       "  </thead>\n",
       "  <tbody>\n",
       "    <tr>\n",
       "      <th>0</th>\n",
       "      <td>-0.89</td>\n",
       "      <td>0.20</td>\n",
       "      <td>0.29</td>\n",
       "    </tr>\n",
       "    <tr>\n",
       "      <th>1</th>\n",
       "      <td>-0.15</td>\n",
       "      <td>-0.12</td>\n",
       "      <td>-0.02</td>\n",
       "    </tr>\n",
       "    <tr>\n",
       "      <th>2</th>\n",
       "      <td>-0.72</td>\n",
       "      <td>-0.44</td>\n",
       "      <td>-0.02</td>\n",
       "    </tr>\n",
       "    <tr>\n",
       "      <th>3</th>\n",
       "      <td>2.22</td>\n",
       "      <td>-0.44</td>\n",
       "      <td>-0.19</td>\n",
       "    </tr>\n",
       "    <tr>\n",
       "      <th>4</th>\n",
       "      <td>-0.54</td>\n",
       "      <td>0.63</td>\n",
       "      <td>-0.05</td>\n",
       "    </tr>\n",
       "    <tr>\n",
       "      <th>...</th>\n",
       "      <td>...</td>\n",
       "      <td>...</td>\n",
       "      <td>...</td>\n",
       "    </tr>\n",
       "    <tr>\n",
       "      <th>4310</th>\n",
       "      <td>1.89</td>\n",
       "      <td>-0.44</td>\n",
       "      <td>-0.21</td>\n",
       "    </tr>\n",
       "    <tr>\n",
       "      <th>4311</th>\n",
       "      <td>0.91</td>\n",
       "      <td>-0.44</td>\n",
       "      <td>-0.22</td>\n",
       "    </tr>\n",
       "    <tr>\n",
       "      <th>4312</th>\n",
       "      <td>-0.84</td>\n",
       "      <td>-0.23</td>\n",
       "      <td>-0.21</td>\n",
       "    </tr>\n",
       "    <tr>\n",
       "      <th>4313</th>\n",
       "      <td>-0.88</td>\n",
       "      <td>1.16</td>\n",
       "      <td>0.02</td>\n",
       "    </tr>\n",
       "    <tr>\n",
       "      <th>4314</th>\n",
       "      <td>-0.48</td>\n",
       "      <td>-0.23</td>\n",
       "      <td>-0.01</td>\n",
       "    </tr>\n",
       "  </tbody>\n",
       "</table>\n",
       "<p>4315 rows × 3 columns</p>\n",
       "</div>"
      ],
      "text/plain": [
       "      Day_Last_Purchase  Total_Transaction  Total_Spend\n",
       "0                 -0.89               0.20         0.29\n",
       "1                 -0.15              -0.12        -0.02\n",
       "2                 -0.72              -0.44        -0.02\n",
       "3                  2.22              -0.44        -0.19\n",
       "4                 -0.54               0.63        -0.05\n",
       "...                 ...                ...          ...\n",
       "4310               1.89              -0.44        -0.21\n",
       "4311               0.91              -0.44        -0.22\n",
       "4312              -0.84              -0.23        -0.21\n",
       "4313              -0.88               1.16         0.02\n",
       "4314              -0.48              -0.23        -0.01\n",
       "\n",
       "[4315 rows x 3 columns]"
      ]
     },
     "execution_count": 179,
     "metadata": {},
     "output_type": "execute_result"
    }
   ],
   "source": [
    "feature_to_scale = ['Day_Last_Purchase', 'Total_Transaction', 'Total_Spend']\n",
    "\n",
    "rfm_data = customer_data.copy()\n",
    "rfm_data = rfm_data[feature_to_scale]\n",
    "\n",
    "scaler = StandardScaler()\n",
    "\n",
    "rfm_data_scale = rfm_data.copy()\n",
    "\n",
    "rfm_data_scale[feature_to_scale] = scaler.fit_transform(rfm_data[feature_to_scale])\n",
    "\n",
    "rfm_data_scale\n",
    "\n"
   ]
  },
  {
   "cell_type": "code",
   "execution_count": 180,
   "metadata": {},
   "outputs": [],
   "source": [
    "num_clusters = np.arange(2,11)\n",
    "\n",
    "def find_inertia_silhoutte_score(data, num_clusters):\n",
    "\n",
    "    inertia = []\n",
    "    sil_score = []\n",
    "\n",
    "    for num in num_clusters:\n",
    "        kmeans = KMeans(n_clusters= num, random_state=42).fit(data)\n",
    "        inertia.append(kmeans.inertia_)\n",
    "        sil_score.append(silhouette_score(data, kmeans.labels_))\n",
    "\n",
    "    return inertia, sil_score\n",
    "\n",
    "inertia, sil_score = find_inertia_silhoutte_score(rfm_data_scale, num_clusters)\n",
    "    "
   ]
  },
  {
   "cell_type": "code",
   "execution_count": 181,
   "metadata": {},
   "outputs": [
    {
     "data": {
      "image/png": "[encoded data removed]",
      "text/plain": [
       "<Figure size 1800x600 with 2 Axes>"
      ]
     },
     "metadata": {},
     "output_type": "display_data"
    }
   ],
   "source": [
    "plt.figure(figsize=(18,6))\n",
    "\n",
    "plt.subplot(1,2,1)\n",
    "sns.lineplot(x = num_clusters,\n",
    "             y = inertia,\n",
    "             marker = 'o')\n",
    "plt.title('Elbow Method', fontsize = 14)\n",
    "\n",
    "plt.subplot(1,2,2)\n",
    "sns.lineplot(x = num_clusters,\n",
    "             y = sil_score,\n",
    "             marker = 'o')\n",
    "plt.title('Silhoutte Score For Each Clusters', fontsize = 14)\n",
    "\n",
    "plt.tight_layout()\n",
    "plt.show()"
   ]
  },
  {
   "cell_type": "code",
   "execution_count": 182,
   "metadata": {},
   "outputs": [
    {
     "data": {
      "text/html": [
       "<div>\n",
       "<style scoped>\n",
       "    .dataframe tbody tr th:only-of-type {\n",
       "        vertical-align: middle;\n",
       "    }\n",
       "\n",
       "    .dataframe tbody tr th {\n",
       "        vertical-align: top;\n",
       "    }\n",
       "\n",
       "    .dataframe thead th {\n",
       "        text-align: right;\n",
       "    }\n",
       "</style>\n",
       "<table border=\"1\" class=\"dataframe\">\n",
       "  <thead>\n",
       "    <tr style=\"text-align: right;\">\n",
       "      <th></th>\n",
       "      <th>CustomerID</th>\n",
       "      <th>Day_Last_Purchase</th>\n",
       "      <th>Total_Transaction</th>\n",
       "      <th>Total_Purchase_Products</th>\n",
       "      <th>Total_Spend</th>\n",
       "      <th>Average_Spend_Per_Product</th>\n",
       "      <th>Average_Spend_Per_Transactions</th>\n",
       "      <th>Unique_Product_Purchase</th>\n",
       "      <th>Total_Cancellation</th>\n",
       "      <th>Cancellation_Rate</th>\n",
       "      <th>Cluster</th>\n",
       "    </tr>\n",
       "  </thead>\n",
       "  <tbody>\n",
       "    <tr>\n",
       "      <th>0</th>\n",
       "      <td>12347</td>\n",
       "      <td>2</td>\n",
       "      <td>7</td>\n",
       "      <td>2458</td>\n",
       "      <td>4310.00</td>\n",
       "      <td>1.75</td>\n",
       "      <td>615.71</td>\n",
       "      <td>103</td>\n",
       "      <td>0.00</td>\n",
       "      <td>0.00</td>\n",
       "      <td>1</td>\n",
       "    </tr>\n",
       "    <tr>\n",
       "      <th>1</th>\n",
       "      <td>12348</td>\n",
       "      <td>75</td>\n",
       "      <td>4</td>\n",
       "      <td>2341</td>\n",
       "      <td>1797.24</td>\n",
       "      <td>0.77</td>\n",
       "      <td>449.31</td>\n",
       "      <td>22</td>\n",
       "      <td>0.00</td>\n",
       "      <td>0.00</td>\n",
       "      <td>1</td>\n",
       "    </tr>\n",
       "    <tr>\n",
       "      <th>2</th>\n",
       "      <td>12349</td>\n",
       "      <td>18</td>\n",
       "      <td>1</td>\n",
       "      <td>631</td>\n",
       "      <td>1757.55</td>\n",
       "      <td>2.79</td>\n",
       "      <td>1757.55</td>\n",
       "      <td>73</td>\n",
       "      <td>0.00</td>\n",
       "      <td>0.00</td>\n",
       "      <td>1</td>\n",
       "    </tr>\n",
       "    <tr>\n",
       "      <th>3</th>\n",
       "      <td>12350</td>\n",
       "      <td>310</td>\n",
       "      <td>1</td>\n",
       "      <td>197</td>\n",
       "      <td>334.40</td>\n",
       "      <td>1.70</td>\n",
       "      <td>334.40</td>\n",
       "      <td>17</td>\n",
       "      <td>0.00</td>\n",
       "      <td>0.00</td>\n",
       "      <td>0</td>\n",
       "    </tr>\n",
       "    <tr>\n",
       "      <th>4</th>\n",
       "      <td>12352</td>\n",
       "      <td>36</td>\n",
       "      <td>11</td>\n",
       "      <td>470</td>\n",
       "      <td>1545.41</td>\n",
       "      <td>3.29</td>\n",
       "      <td>140.49</td>\n",
       "      <td>59</td>\n",
       "      <td>3.00</td>\n",
       "      <td>0.27</td>\n",
       "      <td>1</td>\n",
       "    </tr>\n",
       "    <tr>\n",
       "      <th>...</th>\n",
       "      <td>...</td>\n",
       "      <td>...</td>\n",
       "      <td>...</td>\n",
       "      <td>...</td>\n",
       "      <td>...</td>\n",
       "      <td>...</td>\n",
       "      <td>...</td>\n",
       "      <td>...</td>\n",
       "      <td>...</td>\n",
       "      <td>...</td>\n",
       "      <td>...</td>\n",
       "    </tr>\n",
       "    <tr>\n",
       "      <th>4310</th>\n",
       "      <td>18280</td>\n",
       "      <td>277</td>\n",
       "      <td>1</td>\n",
       "      <td>45</td>\n",
       "      <td>180.60</td>\n",
       "      <td>4.01</td>\n",
       "      <td>180.60</td>\n",
       "      <td>10</td>\n",
       "      <td>0.00</td>\n",
       "      <td>0.00</td>\n",
       "      <td>0</td>\n",
       "    </tr>\n",
       "    <tr>\n",
       "      <th>4311</th>\n",
       "      <td>18281</td>\n",
       "      <td>180</td>\n",
       "      <td>1</td>\n",
       "      <td>54</td>\n",
       "      <td>80.82</td>\n",
       "      <td>1.50</td>\n",
       "      <td>80.82</td>\n",
       "      <td>7</td>\n",
       "      <td>0.00</td>\n",
       "      <td>0.00</td>\n",
       "      <td>0</td>\n",
       "    </tr>\n",
       "    <tr>\n",
       "      <th>4312</th>\n",
       "      <td>18282</td>\n",
       "      <td>7</td>\n",
       "      <td>3</td>\n",
       "      <td>98</td>\n",
       "      <td>176.60</td>\n",
       "      <td>1.80</td>\n",
       "      <td>58.87</td>\n",
       "      <td>12</td>\n",
       "      <td>1.00</td>\n",
       "      <td>0.33</td>\n",
       "      <td>1</td>\n",
       "    </tr>\n",
       "    <tr>\n",
       "      <th>4313</th>\n",
       "      <td>18283</td>\n",
       "      <td>3</td>\n",
       "      <td>16</td>\n",
       "      <td>1357</td>\n",
       "      <td>2045.53</td>\n",
       "      <td>1.51</td>\n",
       "      <td>127.85</td>\n",
       "      <td>263</td>\n",
       "      <td>0.00</td>\n",
       "      <td>0.00</td>\n",
       "      <td>1</td>\n",
       "    </tr>\n",
       "    <tr>\n",
       "      <th>4314</th>\n",
       "      <td>18287</td>\n",
       "      <td>42</td>\n",
       "      <td>3</td>\n",
       "      <td>1586</td>\n",
       "      <td>1837.28</td>\n",
       "      <td>1.16</td>\n",
       "      <td>612.43</td>\n",
       "      <td>59</td>\n",
       "      <td>0.00</td>\n",
       "      <td>0.00</td>\n",
       "      <td>1</td>\n",
       "    </tr>\n",
       "  </tbody>\n",
       "</table>\n",
       "<p>4315 rows × 11 columns</p>\n",
       "</div>"
      ],
      "text/plain": [
       "      CustomerID  Day_Last_Purchase  Total_Transaction  \\\n",
       "0          12347                  2                  7   \n",
       "1          12348                 75                  4   \n",
       "2          12349                 18                  1   \n",
       "3          12350                310                  1   \n",
       "4          12352                 36                 11   \n",
       "...          ...                ...                ...   \n",
       "4310       18280                277                  1   \n",
       "4311       18281                180                  1   \n",
       "4312       18282                  7                  3   \n",
       "4313       18283                  3                 16   \n",
       "4314       18287                 42                  3   \n",
       "\n",
       "      Total_Purchase_Products  Total_Spend  Average_Spend_Per_Product  \\\n",
       "0                        2458      4310.00                       1.75   \n",
       "1                        2341      1797.24                       0.77   \n",
       "2                         631      1757.55                       2.79   \n",
       "3                         197       334.40                       1.70   \n",
       "4                         470      1545.41                       3.29   \n",
       "...                       ...          ...                        ...   \n",
       "4310                       45       180.60                       4.01   \n",
       "4311                       54        80.82                       1.50   \n",
       "4312                       98       176.60                       1.80   \n",
       "4313                     1357      2045.53                       1.51   \n",
       "4314                     1586      1837.28                       1.16   \n",
       "\n",
       "      Average_Spend_Per_Transactions  Unique_Product_Purchase  \\\n",
       "0                             615.71                      103   \n",
       "1                             449.31                       22   \n",
       "2                            1757.55                       73   \n",
       "3                             334.40                       17   \n",
       "4                             140.49                       59   \n",
       "...                              ...                      ...   \n",
       "4310                          180.60                       10   \n",
       "4311                           80.82                        7   \n",
       "4312                           58.87                       12   \n",
       "4313                          127.85                      263   \n",
       "4314                          612.43                       59   \n",
       "\n",
       "      Total_Cancellation  Cancellation_Rate  Cluster  \n",
       "0                   0.00               0.00        1  \n",
       "1                   0.00               0.00        1  \n",
       "2                   0.00               0.00        1  \n",
       "3                   0.00               0.00        0  \n",
       "4                   3.00               0.27        1  \n",
       "...                  ...                ...      ...  \n",
       "4310                0.00               0.00        0  \n",
       "4311                0.00               0.00        0  \n",
       "4312                1.00               0.33        1  \n",
       "4313                0.00               0.00        1  \n",
       "4314                0.00               0.00        1  \n",
       "\n",
       "[4315 rows x 11 columns]"
      ]
     },
     "execution_count": 182,
     "metadata": {},
     "output_type": "execute_result"
    }
   ],
   "source": [
    "k_means_4 = KMeans(n_clusters= 4, random_state=42)\n",
    "\n",
    "customer_data['Cluster'] = k_means_4.fit_predict(rfm_data_scale)\n",
    "\n",
    "customer_data\n",
    "\n"
   ]
  },
  {
   "cell_type": "code",
   "execution_count": 183,
   "metadata": {},
   "outputs": [
    {
     "data": {
      "text/html": [
       "<div>\n",
       "<style scoped>\n",
       "    .dataframe tbody tr th:only-of-type {\n",
       "        vertical-align: middle;\n",
       "    }\n",
       "\n",
       "    .dataframe tbody tr th {\n",
       "        vertical-align: top;\n",
       "    }\n",
       "\n",
       "    .dataframe thead th {\n",
       "        text-align: right;\n",
       "    }\n",
       "</style>\n",
       "<table border=\"1\" class=\"dataframe\">\n",
       "  <thead>\n",
       "    <tr style=\"text-align: right;\">\n",
       "      <th></th>\n",
       "      <th>CustomerID</th>\n",
       "      <th>Day_Last_Purchase</th>\n",
       "      <th>Total_Transaction</th>\n",
       "      <th>Total_Purchase_Products</th>\n",
       "      <th>Total_Spend</th>\n",
       "      <th>Average_Spend_Per_Product</th>\n",
       "      <th>Average_Spend_Per_Transactions</th>\n",
       "      <th>Unique_Product_Purchase</th>\n",
       "      <th>Total_Cancellation</th>\n",
       "      <th>Cancellation_Rate</th>\n",
       "    </tr>\n",
       "    <tr>\n",
       "      <th>Cluster</th>\n",
       "      <th></th>\n",
       "      <th></th>\n",
       "      <th></th>\n",
       "      <th></th>\n",
       "      <th></th>\n",
       "      <th></th>\n",
       "      <th></th>\n",
       "      <th></th>\n",
       "      <th></th>\n",
       "      <th></th>\n",
       "    </tr>\n",
       "  </thead>\n",
       "  <tbody>\n",
       "    <tr>\n",
       "      <th>0</th>\n",
       "      <td>15365.85</td>\n",
       "      <td>245.30</td>\n",
       "      <td>1.85</td>\n",
       "      <td>273.98</td>\n",
       "      <td>488.02</td>\n",
       "      <td>3.04</td>\n",
       "      <td>277.17</td>\n",
       "      <td>26.35</td>\n",
       "      <td>0.28</td>\n",
       "      <td>0.08</td>\n",
       "    </tr>\n",
       "    <tr>\n",
       "      <th>1</th>\n",
       "      <td>15284.29</td>\n",
       "      <td>41.76</td>\n",
       "      <td>4.39</td>\n",
       "      <td>809.22</td>\n",
       "      <td>1326.87</td>\n",
       "      <td>2.65</td>\n",
       "      <td>322.17</td>\n",
       "      <td>63.71</td>\n",
       "      <td>0.66</td>\n",
       "      <td>0.10</td>\n",
       "    </tr>\n",
       "    <tr>\n",
       "      <th>2</th>\n",
       "      <td>15289.09</td>\n",
       "      <td>4.36</td>\n",
       "      <td>109.73</td>\n",
       "      <td>65257.91</td>\n",
       "      <td>124150.43</td>\n",
       "      <td>1.93</td>\n",
       "      <td>1954.08</td>\n",
       "      <td>791.64</td>\n",
       "      <td>18.09</td>\n",
       "      <td>0.17</td>\n",
       "    </tr>\n",
       "    <tr>\n",
       "      <th>3</th>\n",
       "      <td>15191.09</td>\n",
       "      <td>10.25</td>\n",
       "      <td>28.58</td>\n",
       "      <td>7249.67</td>\n",
       "      <td>12190.96</td>\n",
       "      <td>1.96</td>\n",
       "      <td>452.53</td>\n",
       "      <td>186.04</td>\n",
       "      <td>5.62</td>\n",
       "      <td>0.19</td>\n",
       "    </tr>\n",
       "  </tbody>\n",
       "</table>\n",
       "</div>"
      ],
      "text/plain": [
       "         CustomerID  Day_Last_Purchase  Total_Transaction  \\\n",
       "Cluster                                                     \n",
       "0          15365.85             245.30               1.85   \n",
       "1          15284.29              41.76               4.39   \n",
       "2          15289.09               4.36             109.73   \n",
       "3          15191.09              10.25              28.58   \n",
       "\n",
       "         Total_Purchase_Products  Total_Spend  Average_Spend_Per_Product  \\\n",
       "Cluster                                                                    \n",
       "0                         273.98       488.02                       3.04   \n",
       "1                         809.22      1326.87                       2.65   \n",
       "2                       65257.91    124150.43                       1.93   \n",
       "3                        7249.67     12190.96                       1.96   \n",
       "\n",
       "         Average_Spend_Per_Transactions  Unique_Product_Purchase  \\\n",
       "Cluster                                                            \n",
       "0                                277.17                    26.35   \n",
       "1                                322.17                    63.71   \n",
       "2                               1954.08                   791.64   \n",
       "3                                452.53                   186.04   \n",
       "\n",
       "         Total_Cancellation  Cancellation_Rate  \n",
       "Cluster                                         \n",
       "0                      0.28               0.08  \n",
       "1                      0.66               0.10  \n",
       "2                     18.09               0.17  \n",
       "3                      5.62               0.19  "
      ]
     },
     "execution_count": 183,
     "metadata": {},
     "output_type": "execute_result"
    }
   ],
   "source": [
    "customer_data.groupby('Cluster').mean(numeric_only=True)"
   ]
  },
  {
   "cell_type": "markdown",
   "metadata": {},
   "source": [
    "After analyzing the average values for each cluster, it's clear that each group exhibits distinct customer characteristics and behaviors. Here's a concise breakdown:\n",
    "\n",
    "- Cluster 0: Inactive Low Customers: These customers haven't purchased in a while and their total spending is low.\n",
    "- Cluster 1: Active Mid Customers: These customers have made recent purchases and spend a moderate amount overall.\n",
    "- Cluster 2: Top Tier Customers: These customers spend the most money overall, regardless of how often or recently they buy.\n",
    "- Cluster 3: Active High Customers: These customers make purchases frequently and their total spending is high."
   ]
  },
  {
   "cell_type": "code",
   "execution_count": 184,
   "metadata": {},
   "outputs": [
    {
     "data": {
      "text/html": [
       "<div>\n",
       "<style scoped>\n",
       "    .dataframe tbody tr th:only-of-type {\n",
       "        vertical-align: middle;\n",
       "    }\n",
       "\n",
       "    .dataframe tbody tr th {\n",
       "        vertical-align: top;\n",
       "    }\n",
       "\n",
       "    .dataframe thead th {\n",
       "        text-align: right;\n",
       "    }\n",
       "</style>\n",
       "<table border=\"1\" class=\"dataframe\">\n",
       "  <thead>\n",
       "    <tr style=\"text-align: right;\">\n",
       "      <th></th>\n",
       "      <th>CustomerID</th>\n",
       "      <th>Day_Last_Purchase</th>\n",
       "      <th>Total_Transaction</th>\n",
       "      <th>Total_Purchase_Products</th>\n",
       "      <th>Total_Spend</th>\n",
       "      <th>Average_Spend_Per_Product</th>\n",
       "      <th>Average_Spend_Per_Transactions</th>\n",
       "      <th>Unique_Product_Purchase</th>\n",
       "      <th>Total_Cancellation</th>\n",
       "      <th>Cancellation_Rate</th>\n",
       "      <th>RFM_Cluster</th>\n",
       "    </tr>\n",
       "  </thead>\n",
       "  <tbody>\n",
       "    <tr>\n",
       "      <th>0</th>\n",
       "      <td>12347</td>\n",
       "      <td>2</td>\n",
       "      <td>7</td>\n",
       "      <td>2458</td>\n",
       "      <td>4310.00</td>\n",
       "      <td>1.75</td>\n",
       "      <td>615.71</td>\n",
       "      <td>103</td>\n",
       "      <td>0.00</td>\n",
       "      <td>0.00</td>\n",
       "      <td>Active Mid Customers</td>\n",
       "    </tr>\n",
       "    <tr>\n",
       "      <th>1</th>\n",
       "      <td>12348</td>\n",
       "      <td>75</td>\n",
       "      <td>4</td>\n",
       "      <td>2341</td>\n",
       "      <td>1797.24</td>\n",
       "      <td>0.77</td>\n",
       "      <td>449.31</td>\n",
       "      <td>22</td>\n",
       "      <td>0.00</td>\n",
       "      <td>0.00</td>\n",
       "      <td>Active Mid Customers</td>\n",
       "    </tr>\n",
       "    <tr>\n",
       "      <th>2</th>\n",
       "      <td>12349</td>\n",
       "      <td>18</td>\n",
       "      <td>1</td>\n",
       "      <td>631</td>\n",
       "      <td>1757.55</td>\n",
       "      <td>2.79</td>\n",
       "      <td>1757.55</td>\n",
       "      <td>73</td>\n",
       "      <td>0.00</td>\n",
       "      <td>0.00</td>\n",
       "      <td>Active Mid Customers</td>\n",
       "    </tr>\n",
       "    <tr>\n",
       "      <th>3</th>\n",
       "      <td>12350</td>\n",
       "      <td>310</td>\n",
       "      <td>1</td>\n",
       "      <td>197</td>\n",
       "      <td>334.40</td>\n",
       "      <td>1.70</td>\n",
       "      <td>334.40</td>\n",
       "      <td>17</td>\n",
       "      <td>0.00</td>\n",
       "      <td>0.00</td>\n",
       "      <td>Inactive Low Customers</td>\n",
       "    </tr>\n",
       "    <tr>\n",
       "      <th>4</th>\n",
       "      <td>12352</td>\n",
       "      <td>36</td>\n",
       "      <td>11</td>\n",
       "      <td>470</td>\n",
       "      <td>1545.41</td>\n",
       "      <td>3.29</td>\n",
       "      <td>140.49</td>\n",
       "      <td>59</td>\n",
       "      <td>3.00</td>\n",
       "      <td>0.27</td>\n",
       "      <td>Active Mid Customers</td>\n",
       "    </tr>\n",
       "  </tbody>\n",
       "</table>\n",
       "</div>"
      ],
      "text/plain": [
       "   CustomerID  Day_Last_Purchase  Total_Transaction  Total_Purchase_Products  \\\n",
       "0       12347                  2                  7                     2458   \n",
       "1       12348                 75                  4                     2341   \n",
       "2       12349                 18                  1                      631   \n",
       "3       12350                310                  1                      197   \n",
       "4       12352                 36                 11                      470   \n",
       "\n",
       "   Total_Spend  Average_Spend_Per_Product  Average_Spend_Per_Transactions  \\\n",
       "0      4310.00                       1.75                          615.71   \n",
       "1      1797.24                       0.77                          449.31   \n",
       "2      1757.55                       2.79                         1757.55   \n",
       "3       334.40                       1.70                          334.40   \n",
       "4      1545.41                       3.29                          140.49   \n",
       "\n",
       "   Unique_Product_Purchase  Total_Cancellation  Cancellation_Rate  \\\n",
       "0                      103                0.00               0.00   \n",
       "1                       22                0.00               0.00   \n",
       "2                       73                0.00               0.00   \n",
       "3                       17                0.00               0.00   \n",
       "4                       59                3.00               0.27   \n",
       "\n",
       "              RFM_Cluster  \n",
       "0    Active Mid Customers  \n",
       "1    Active Mid Customers  \n",
       "2    Active Mid Customers  \n",
       "3  Inactive Low Customers  \n",
       "4    Active Mid Customers  "
      ]
     },
     "execution_count": 184,
     "metadata": {},
     "output_type": "execute_result"
    }
   ],
   "source": [
    "customer_data['RFM_Cluster'] = customer_data['Cluster'].map({\n",
    "    0 : 'Inactive Low Customers',\n",
    "    1 : 'Active Mid Customers',\n",
    "    2 : 'Top Tier Customers',\n",
    "    3 : 'Active High Customers'\n",
    "})\n",
    "\n",
    "customer_data = customer_data.drop(columns= 'Cluster')\n",
    "\n",
    "customer_data.head()"
   ]
  },
  {
   "cell_type": "code",
   "execution_count": 185,
   "metadata": {},
   "outputs": [
    {
     "data": {
      "image/png": "[encoded data removed]",
      "text/plain": [
       "<Figure size 1200x600 with 1 Axes>"
      ]
     },
     "metadata": {},
     "output_type": "display_data"
    }
   ],
   "source": [
    "customer_segment = customer_data.groupby('RFM_Cluster').size().reset_index(name = 'Total_Customer').sort_values(by = 'Total_Customer', ascending= False)\n",
    "\n",
    "plt.figure(figsize=(12,6))\n",
    "\n",
    "ax = sns.barplot(data = customer_segment,\n",
    "            x = 'RFM_Cluster',\n",
    "            y = 'Total_Customer',\n",
    "            hue = 'RFM_Cluster',\n",
    "            palette= 'pastel')\n",
    "\n",
    "plt.title('Total Customer For Each Customer Type', fontsize = 16, fontweight = 'bold')\n",
    "plt.xlabel('Customer Type', fontsize = 12)\n",
    "plt.ylabel('Total Customer', fontsize = 12)\n",
    "\n",
    "ax.set_yscale('log')\n",
    "\n",
    "for container in ax.containers:\n",
    "    ax.bar_label(container, label_type= 'center', color = 'black')\n",
    "\n",
    "plt.tight_layout()\n",
    "plt.savefig('Total Customer For Each Customer Type', dpi = 300)\n",
    "plt.show()\n"
   ]
  },
  {
   "cell_type": "code",
   "execution_count": 186,
   "metadata": {},
   "outputs": [],
   "source": [
    "#save data\n",
    "df.to_csv('e-commerce_data.csv')\n",
    "customer_data.to_csv('Customer_Data.csv')"
   ]
  }
 ],
 "metadata": {
  "kernelspec": {
   "display_name": "Python 3",
   "language": "python",
   "name": "python3"
  },
  "language_info": {
   "codemirror_mode": {
    "name": "ipython",
    "version": 3
   },
   "file_extension": ".py",
   "mimetype": "text/x-python",
   "name": "python",
   "nbconvert_exporter": "python",
   "pygments_lexer": "ipython3",
   "version": "3.13.1"
  }
 },
 "nbformat": 4,
 "nbformat_minor": 2
}
